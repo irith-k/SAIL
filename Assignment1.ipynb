{
  "cells": [
    {
      "cell_type": "markdown",
      "metadata": {
        "id": "view-in-github",
        "colab_type": "text"
      },
      "source": [
        "<a href=\"https://colab.research.google.com/github/irith-k/SAIL/blob/main/Assignment1.ipynb\" target=\"_parent\"><img src=\"https://colab.research.google.com/assets/colab-badge.svg\" alt=\"Open In Colab\"/></a>"
      ]
    },
    {
      "cell_type": "markdown",
      "metadata": {
        "id": "YBwKGbIOlMhz"
      },
      "source": [
        "#Dataset setup"
      ]
    },
    {
      "cell_type": "markdown",
      "metadata": {
        "id": "g2H4KG7cnEop"
      },
      "source": [
        "Imports"
      ]
    },
    {
      "cell_type": "code",
      "execution_count": 1,
      "metadata": {
        "id": "-qsrSQc8kh6z"
      },
      "outputs": [],
      "source": [
        "import torch\n",
        "import numpy as np\n",
        "from torch.utils.data import Dataset\n",
        "from torchvision import datasets\n",
        "import torchvision.transforms as transforms\n",
        "import torchvision.models as models\n",
        "import matplotlib.pyplot as plt\n",
        "from scipy.stats import norm\n",
        "from torch import nn\n",
        "import torch.optim as optim\n",
        "import torch.nn.functional as F\n",
        "from torch.utils.data import DataLoader\n",
        "from tqdm import tqdm\n",
        "from torch.utils.data.dataset import TensorDataset\n",
        "from sklearn.base import BaseEstimator, ClassifierMixin\n",
        "from sklearn.model_selection import learning_curve\n",
        "from sklearn.naive_bayes import GaussianNB\n",
        "from sklearn import svm\n",
        "from sklearn.model_selection import GridSearchCV\n",
        "import random"
      ]
    },
    {
      "cell_type": "markdown",
      "metadata": {
        "id": "TsPmCjfonFtD"
      },
      "source": [
        "Loading the train and test datasets"
      ]
    },
    {
      "cell_type": "code",
      "execution_count": 2,
      "metadata": {
        "id": "hOcwrN1gk5Wd",
        "colab": {
          "base_uri": "https://localhost:8080/",
          "height": 431,
          "referenced_widgets": [
            "23c247257c0b4ad1a2d326cd0267b558",
            "aff465145d8d40aeaa9bfed0a556a2cd",
            "b57755b4850f4d5d9ef8d884baa9fa73",
            "02b39265a4b04a1daa86e8f776b1941d",
            "99f77bc2bae44a559d02bb17bc592b53",
            "4e72e4c694c84b6d8df8716f8581639d",
            "ddb57bf24a494f3fa3e981ecb7bd0658",
            "0499f203f58941899d62debd2f7b71a2",
            "f6588efe9d514ca3abb3478c365511e4",
            "642b4f48b53f4e0495182d1d4e63f76c",
            "7e9b43e0996d47aba525cac417ff0269",
            "9dc22027f5b6446ba14c447147fbd600",
            "94849f8723e341c29e08410dc77e684b",
            "1161864e796c40978fcabfdd2d8ba6da",
            "d3d69be469674ba594610c5f02cc966b",
            "79ecd6416ccf4ec88562dd459729026e",
            "c4bed932fcd24d038394c7e8046e34de",
            "deb652a7fa624db5826e39f60947e026",
            "3afc442f980940b3b017cc24959bc1b7",
            "1b87597853354bc984c4104ea2eb7f81",
            "3349195426d24a6ebb8dc26e555a1deb",
            "96a27bc8ef6a47ee88a1d6348fe7603d",
            "4ea0bf3f050a488ea80f06359f0f25e6",
            "5510f22bc3144e19b3ed3483062db07b",
            "e72b60ddd6b341afba37757678c95c3f",
            "469b5aa335104cdd943689c9c3ad7673",
            "4d9580bec7e64a9e8e6c0a376b338ce7",
            "8a6cb0552d0e4cceb2a110a7b1a424f9",
            "5c9da2d0714740268994741fc35df32b",
            "03d209bc98d147fcb92470868f55d23c",
            "eb7a16d4fe79485cb757d2cf54d1ac07",
            "07f0db8d5b1243eea3e886650e1a8318",
            "cb8288c3993b4069bcd66312b5b20525",
            "3dd935b2de1344f587cca60f89ebae7c",
            "d6745bb795f34e64b79cb45d6f23c4b8",
            "5902637a81f8497681abf2afbeafff56",
            "0eddbc63b7aa46ccad058c92fb894218",
            "421888b4662a44b8bbd81fb689e11a70",
            "31b9a11fe6764bc2b2ab54a0e148ce52",
            "e3ffd279d3eb48f481cbf5423a4913ec",
            "7cfe9f3ce7e44751994fdb4f4b2c8fa1",
            "d09c0984a9ef41a69b1706e6202fd4cf",
            "931699d834dd4bf7a1836e0028e26a93",
            "cccf8982a67e4658a6b42d96431bef01"
          ]
        },
        "outputId": "7515e1f4-983c-4720-ad59-f1498193390f"
      },
      "outputs": [
        {
          "output_type": "stream",
          "name": "stdout",
          "text": [
            "Downloading http://yann.lecun.com/exdb/mnist/train-images-idx3-ubyte.gz\n",
            "Downloading http://yann.lecun.com/exdb/mnist/train-images-idx3-ubyte.gz to data/MNIST/raw/train-images-idx3-ubyte.gz\n"
          ]
        },
        {
          "output_type": "display_data",
          "data": {
            "text/plain": [
              "  0%|          | 0/9912422 [00:00<?, ?it/s]"
            ],
            "application/vnd.jupyter.widget-view+json": {
              "version_major": 2,
              "version_minor": 0,
              "model_id": "23c247257c0b4ad1a2d326cd0267b558"
            }
          },
          "metadata": {}
        },
        {
          "output_type": "stream",
          "name": "stdout",
          "text": [
            "Extracting data/MNIST/raw/train-images-idx3-ubyte.gz to data/MNIST/raw\n",
            "\n",
            "Downloading http://yann.lecun.com/exdb/mnist/train-labels-idx1-ubyte.gz\n",
            "Downloading http://yann.lecun.com/exdb/mnist/train-labels-idx1-ubyte.gz to data/MNIST/raw/train-labels-idx1-ubyte.gz\n"
          ]
        },
        {
          "output_type": "display_data",
          "data": {
            "text/plain": [
              "  0%|          | 0/28881 [00:00<?, ?it/s]"
            ],
            "application/vnd.jupyter.widget-view+json": {
              "version_major": 2,
              "version_minor": 0,
              "model_id": "9dc22027f5b6446ba14c447147fbd600"
            }
          },
          "metadata": {}
        },
        {
          "output_type": "stream",
          "name": "stdout",
          "text": [
            "Extracting data/MNIST/raw/train-labels-idx1-ubyte.gz to data/MNIST/raw\n",
            "\n",
            "Downloading http://yann.lecun.com/exdb/mnist/t10k-images-idx3-ubyte.gz\n",
            "Downloading http://yann.lecun.com/exdb/mnist/t10k-images-idx3-ubyte.gz to data/MNIST/raw/t10k-images-idx3-ubyte.gz\n"
          ]
        },
        {
          "output_type": "display_data",
          "data": {
            "text/plain": [
              "  0%|          | 0/1648877 [00:00<?, ?it/s]"
            ],
            "application/vnd.jupyter.widget-view+json": {
              "version_major": 2,
              "version_minor": 0,
              "model_id": "4ea0bf3f050a488ea80f06359f0f25e6"
            }
          },
          "metadata": {}
        },
        {
          "output_type": "stream",
          "name": "stdout",
          "text": [
            "Extracting data/MNIST/raw/t10k-images-idx3-ubyte.gz to data/MNIST/raw\n",
            "\n",
            "Downloading http://yann.lecun.com/exdb/mnist/t10k-labels-idx1-ubyte.gz\n",
            "Downloading http://yann.lecun.com/exdb/mnist/t10k-labels-idx1-ubyte.gz to data/MNIST/raw/t10k-labels-idx1-ubyte.gz\n"
          ]
        },
        {
          "output_type": "display_data",
          "data": {
            "text/plain": [
              "  0%|          | 0/4542 [00:00<?, ?it/s]"
            ],
            "application/vnd.jupyter.widget-view+json": {
              "version_major": 2,
              "version_minor": 0,
              "model_id": "3dd935b2de1344f587cca60f89ebae7c"
            }
          },
          "metadata": {}
        },
        {
          "output_type": "stream",
          "name": "stdout",
          "text": [
            "Extracting data/MNIST/raw/t10k-labels-idx1-ubyte.gz to data/MNIST/raw\n",
            "\n"
          ]
        }
      ],
      "source": [
        "training_data = datasets.MNIST(\n",
        "    root=\"data\",\n",
        "    train=True,\n",
        "    download=True,\n",
        "    transform=transforms.ToTensor()\n",
        ")\n",
        "test_data = datasets.MNIST(\n",
        "    root=\"data\",\n",
        "    train=False,\n",
        "    download=True,\n",
        "    transform=transforms.ToTensor()\n",
        ")"
      ]
    },
    {
      "cell_type": "code",
      "execution_count": 3,
      "metadata": {
        "id": "WABtElxkRtyw"
      },
      "outputs": [],
      "source": [
        "training_X = []; training_y = []; test_X = []; test_y = []\n",
        "for x, y in training_data:\n",
        "  training_X.append(x)\n",
        "  training_y.append(y)\n",
        "for x, y in test_data:\n",
        "  test_X.append(x)\n",
        "  test_y.append(y)"
      ]
    },
    {
      "cell_type": "markdown",
      "metadata": {
        "id": "QCvDr3yjmynJ"
      },
      "source": [
        "Plotting digits in the dataset"
      ]
    },
    {
      "cell_type": "code",
      "execution_count": null,
      "metadata": {
        "colab": {
          "base_uri": "https://localhost:8080/",
          "height": 482
        },
        "id": "FsITUbsYlWJJ",
        "outputId": "8da73c2b-11d6-4805-ef6a-00f89a0d6dcb"
      },
      "outputs": [
        {
          "output_type": "display_data",
          "data": {
            "text/plain": [
              "<Figure size 576x576 with 9 Axes>"
            ],
            "image/png": "[encoded data removed]"
          },
          "metadata": {
            "needs_background": "light"
          }
        }
      ],
      "source": [
        "figure = plt.figure(figsize=(8, 8))\n",
        "cols, rows = 3, 3\n",
        "for i in range(1, cols * rows + 1):\n",
        "    sample_idx = torch.randint(len(training_data), size=(1,)).item()\n",
        "    img, label = training_data[sample_idx]\n",
        "    figure.add_subplot(rows, cols, i)\n",
        "    plt.title(label)\n",
        "    plt.axis(\"off\")\n",
        "    plt.imshow(img.squeeze(), cmap=\"gray\")\n",
        "plt.show()"
      ]
    },
    {
      "cell_type": "markdown",
      "metadata": {
        "id": "TvmyNehAmviZ"
      },
      "source": [
        "Average digit"
      ]
    },
    {
      "cell_type": "code",
      "execution_count": null,
      "metadata": {
        "id": "e8CEtA_cl3IZ"
      },
      "outputs": [],
      "source": [
        "dig_dict = {}\n",
        "for i in range(len(training_data)):\n",
        "  img, label = training_data[i]\n",
        "  dig_dict.setdefault(label, []).append(img)"
      ]
    },
    {
      "cell_type": "code",
      "execution_count": null,
      "metadata": {
        "id": "2VUHV_zSmIDd"
      },
      "outputs": [],
      "source": [
        "prototype = {}\n",
        "for y in dig_dict:\n",
        "  prototype[y] = torch.cat(dig_dict[y], 0).mean(dim=0)"
      ]
    },
    {
      "cell_type": "code",
      "execution_count": null,
      "metadata": {
        "colab": {
          "base_uri": "https://localhost:8080/",
          "height": 1000
        },
        "id": "dC1KiWhVmJsQ",
        "outputId": "0f13da81-1e5a-4252-ae22-6b0e1ffd061f"
      },
      "outputs": [
        {
          "output_type": "display_data",
          "data": {
            "text/plain": [
              "<Figure size 432x288 with 1 Axes>"
            ],
            "image/png": "[encoded data removed]"
          },
          "metadata": {
            "needs_background": "light"
          }
        },
        {
          "output_type": "display_data",
          "data": {
            "text/plain": [
              "<Figure size 432x288 with 1 Axes>"
            ],
            "image/png": "[encoded data removed]"
          },
          "metadata": {
            "needs_background": "light"
          }
        },
        {
          "output_type": "display_data",
          "data": {
            "text/plain": [
              "<Figure size 432x288 with 1 Axes>"
            ],
            "image/png": "[encoded data removed]"
          },
          "metadata": {
            "needs_background": "light"
          }
        },
        {
          "output_type": "display_data",
          "data": {
            "text/plain": [
              "<Figure size 432x288 with 1 Axes>"
            ],
            "image/png": "[encoded data removed]"
          },
          "metadata": {
            "needs_background": "light"
          }
        },
        {
          "output_type": "display_data",
          "data": {
            "text/plain": [
              "<Figure size 432x288 with 1 Axes>"
            ],
            "image/png": "[encoded data removed]"
          },
          "metadata": {
            "needs_background": "light"
          }
        },
        {
          "output_type": "display_data",
          "data": {
            "text/plain": [
              "<Figure size 432x288 with 1 Axes>"
            ],
            "image/png": "[encoded data removed]"
          },
          "metadata": {
            "needs_background": "light"
          }
        },
        {
          "output_type": "display_data",
          "data": {
            "text/plain": [
              "<Figure size 432x288 with 1 Axes>"
            ],
            "image/png": "[encoded data removed]"
          },
          "metadata": {
            "needs_background": "light"
          }
        },
        {
          "output_type": "display_data",
          "data": {
            "text/plain": [
              "<Figure size 432x288 with 1 Axes>"
            ],
            "image/png": "[encoded data removed]"
          },
          "metadata": {
            "needs_background": "light"
          }
        },
        {
          "output_type": "display_data",
          "data": {
            "text/plain": [
              "<Figure size 432x288 with 1 Axes>"
            ],
            "image/png": "[encoded data removed]"
          },
          "metadata": {
            "needs_background": "light"
          }
        },
        {
          "output_type": "display_data",
          "data": {
            "text/plain": [
              "<Figure size 432x288 with 1 Axes>"
            ],
            "image/png": "[encoded data removed]"
          },
          "metadata": {
            "needs_background": "light"
          }
        }
      ],
      "source": [
        "for x in prototype:\n",
        "  plt.title(x)\n",
        "  plt.axis(\"off\")\n",
        "  plt.imshow(prototype[x].squeeze(), cmap=\"gray\")\n",
        "  plt.show()"
      ]
    },
    {
      "cell_type": "markdown",
      "metadata": {
        "id": "SyVD_N4iml-B"
      },
      "source": [
        "Standard deviation digit"
      ]
    },
    {
      "cell_type": "code",
      "execution_count": null,
      "metadata": {
        "id": "FNbEsX33mKBP"
      },
      "outputs": [],
      "source": [
        "epsilon = 10**-5\n",
        "stddevs = {}\n",
        "for y in dig_dict:\n",
        "  stddevs[y] = torch.cat(dig_dict[y], 0).std(dim=0) + epsilon"
      ]
    },
    {
      "cell_type": "code",
      "execution_count": null,
      "metadata": {
        "colab": {
          "base_uri": "https://localhost:8080/",
          "height": 1000
        },
        "id": "TjHYtHkrmc3i",
        "outputId": "6ad6a708-64b9-4e59-93eb-3a50a1ae58dc"
      },
      "outputs": [
        {
          "output_type": "display_data",
          "data": {
            "text/plain": [
              "<Figure size 432x288 with 1 Axes>"
            ],
            "image/png": "[encoded data removed]"
          },
          "metadata": {
            "needs_background": "light"
          }
        },
        {
          "output_type": "display_data",
          "data": {
            "text/plain": [
              "<Figure size 432x288 with 1 Axes>"
            ],
            "image/png": "[encoded data removed]"
          },
          "metadata": {
            "needs_background": "light"
          }
        },
        {
          "output_type": "display_data",
          "data": {
            "text/plain": [
              "<Figure size 432x288 with 1 Axes>"
            ],
            "image/png": "[encoded data removed]"
          },
          "metadata": {
            "needs_background": "light"
          }
        },
        {
          "output_type": "display_data",
          "data": {
            "text/plain": [
              "<Figure size 432x288 with 1 Axes>"
            ],
            "image/png": "[encoded data removed]"
          },
          "metadata": {
            "needs_background": "light"
          }
        },
        {
          "output_type": "display_data",
          "data": {
            "text/plain": [
              "<Figure size 432x288 with 1 Axes>"
            ],
            "image/png": "[encoded data removed]"
          },
          "metadata": {
            "needs_background": "light"
          }
        },
        {
          "output_type": "display_data",
          "data": {
            "text/plain": [
              "<Figure size 432x288 with 1 Axes>"
            ],
            "image/png": "[encoded data removed]"
          },
          "metadata": {
            "needs_background": "light"
          }
        },
        {
          "output_type": "display_data",
          "data": {
            "text/plain": [
              "<Figure size 432x288 with 1 Axes>"
            ],
            "image/png": "[encoded data removed]"
          },
          "metadata": {
            "needs_background": "light"
          }
        },
        {
          "output_type": "display_data",
          "data": {
            "text/plain": [
              "<Figure size 432x288 with 1 Axes>"
            ],
            "image/png": "[encoded data removed]"
          },
          "metadata": {
            "needs_background": "light"
          }
        },
        {
          "output_type": "display_data",
          "data": {
            "text/plain": [
              "<Figure size 432x288 with 1 Axes>"
            ],
            "image/png": "[encoded data removed]"
          },
          "metadata": {
            "needs_background": "light"
          }
        },
        {
          "output_type": "display_data",
          "data": {
            "text/plain": [
              "<Figure size 432x288 with 1 Axes>"
            ],
            "image/png": "[encoded data removed]"
          },
          "metadata": {
            "needs_background": "light"
          }
        }
      ],
      "source": [
        "for x in stddevs:\n",
        "  plt.title(x)\n",
        "  plt.axis(\"off\")\n",
        "  plt.imshow(stddevs[x].squeeze(), cmap=\"gray\")\n",
        "  plt.show()"
      ]
    },
    {
      "cell_type": "markdown",
      "metadata": {
        "id": "xoY9aOrmnONX"
      },
      "source": [
        "#Euclidean classifier"
      ]
    },
    {
      "cell_type": "markdown",
      "metadata": {
        "id": "aQxCqqT0lbCp"
      },
      "source": [
        "Scikit-learn Euclidean classifier"
      ]
    },
    {
      "cell_type": "code",
      "execution_count": 5,
      "metadata": {
        "id": "GALMfjTLnQzP"
      },
      "outputs": [],
      "source": [
        "class EuclideanClassifier(BaseEstimator, ClassifierMixin):  \n",
        "  \"\"\"Classify samples based on the distance from the mean feature value\"\"\"\n",
        "\n",
        "  def __init__(self):\n",
        "    self.X_mean_ = None\n",
        "\n",
        "  def fit(self, X, y):\n",
        "    \"\"\"\n",
        "    This should fit classifier. All the \"work\" should be done here.\n",
        "    \n",
        "    Calculates self.X_mean_ based on the mean \n",
        "    feature values in X for each class.\n",
        "    \n",
        "    self.X_mean_ becomes a numpy.ndarray of shape \n",
        "    (n_classes, n_features)\n",
        "    \n",
        "    fit always returns self.\n",
        "    \"\"\"\n",
        "    dig_dict = {}\n",
        "    for i in range(len(X)):\n",
        "      img = X[i]\n",
        "      label = y[i]\n",
        "      dig_dict.setdefault(label, []).append(img)\n",
        "    dig_keys = list(dig_dict.keys())\n",
        "    dig_keys.sort()\n",
        "    dig_dict = {i: dig_dict[i] for i in dig_keys}\n",
        "    self.X_mean_ = []\n",
        "    for y in dig_dict:\n",
        "      a = torch.cat(dig_dict[y], dim=0).mean(dim=0).numpy()\n",
        "      self.X_mean_.append(a)\n",
        "    self.X_mean_ = np.array(self.X_mean_)\n",
        "    return self\n",
        "\n",
        "  def predict(self, X):\n",
        "    \"\"\"\n",
        "    Make predictions for X based on the\n",
        "    euclidean distance from self.X_mean_\n",
        "    \"\"\"\n",
        "    preds = []\n",
        "    for i in range(len(X)):\n",
        "      distance = [((v - X[i]) ** 2).sum().item() for v in torch.from_numpy(self.X_mean_)]\n",
        "      pred = distance.index(min(distance))\n",
        "      preds.append(pred)\n",
        "    return preds\n",
        "  \n",
        "  def score(self, X, y):\n",
        "    \"\"\"\n",
        "    Return accuracy score on the predictions\n",
        "    for X based on ground truth y\n",
        "    \"\"\"\n",
        "    correct = 0\n",
        "    for i in range(len(X)):\n",
        "      distance = [((v - X[i]) ** 2).sum().item() for v in torch.from_numpy(self.X_mean_)]\n",
        "      pred = distance.index(min(distance))\n",
        "      if(pred == y[i]):\n",
        "        correct += 1\n",
        "    score = correct/len(y)\n",
        "    return score"
      ]
    },
    {
      "cell_type": "code",
      "execution_count": 54,
      "metadata": {
        "id": "ZxN7tsDDCcdJ"
      },
      "outputs": [],
      "source": [
        "model = EuclideanClassifier()"
      ]
    },
    {
      "cell_type": "code",
      "execution_count": 55,
      "metadata": {
        "id": "mZIIgzitCi8u",
        "colab": {
          "base_uri": "https://localhost:8080/"
        },
        "outputId": "1cd894cd-11ef-428e-8f5a-9f30db75b579"
      },
      "outputs": [
        {
          "output_type": "execute_result",
          "data": {
            "text/plain": [
              "EuclideanClassifier()"
            ]
          },
          "metadata": {},
          "execution_count": 55
        }
      ],
      "source": [
        "model.fit(training_X, training_y)"
      ]
    },
    {
      "cell_type": "code",
      "execution_count": 56,
      "metadata": {
        "id": "rFjDofcLCjPS",
        "colab": {
          "base_uri": "https://localhost:8080/"
        },
        "outputId": "1e402a17-215d-4a13-b1ae-6e1fb18f4d26"
      },
      "outputs": [
        {
          "output_type": "execute_result",
          "data": {
            "text/plain": [
              "0.8203"
            ]
          },
          "metadata": {},
          "execution_count": 56
        }
      ],
      "source": [
        "model.score(test_X, test_y)"
      ]
    },
    {
      "cell_type": "markdown",
      "metadata": {
        "id": "OTul9mEdlMUU"
      },
      "source": [
        "Learning curve plot for different train sizes\n",
        "\n"
      ]
    },
    {
      "cell_type": "code",
      "execution_count": 6,
      "metadata": {
        "id": "QFZ4Y8T1hUD8"
      },
      "outputs": [],
      "source": [
        "train_sizes, train_scores, test_scores = learning_curve(estimator=EuclideanClassifier(), X=training_X, y=training_y, train_sizes=[0.1, 0.2, 0.3, 0.4, 0.5, 0.6, 0.7, 0.8, 0.9, 1.0], cv=3)"
      ]
    },
    {
      "cell_type": "code",
      "execution_count": 7,
      "metadata": {
        "id": "rg6QTeBDjJ8p"
      },
      "outputs": [],
      "source": [
        "train_scores_mean = train_scores.mean(axis=1)\n",
        "test_scores_mean = test_scores.mean(axis=1)"
      ]
    },
    {
      "cell_type": "code",
      "execution_count": 8,
      "metadata": {
        "id": "H35ap8Qcjz-Q",
        "colab": {
          "base_uri": "https://localhost:8080/",
          "height": 265
        },
        "outputId": "d8731968-33c5-46e9-99a0-650702d02185"
      },
      "outputs": [
        {
          "output_type": "display_data",
          "data": {
            "text/plain": [
              "<Figure size 432x288 with 1 Axes>"
            ],
            "image/png": "[encoded data removed]"
          },
          "metadata": {
            "needs_background": "light"
          }
        }
      ],
      "source": [
        "plt.plot(train_sizes, train_scores_mean, label=\"Train\", marker=\"o\")\n",
        "plt.plot(train_sizes, test_scores_mean, label=\"Test\", marker=\"o\")\n",
        "plt.legend(loc=\"lower right\")\n",
        "plt.show()"
      ]
    },
    {
      "cell_type": "markdown",
      "metadata": {
        "id": "ZfnvklbVl3Ra"
      },
      "source": [
        "#Dimensionality reduction for plotting"
      ]
    },
    {
      "cell_type": "markdown",
      "source": [
        "Naive plot of empirical distribution of data"
      ],
      "metadata": {
        "id": "rmlPNbz2aULk"
      }
    },
    {
      "cell_type": "code",
      "source": [
        "# Naive approach: try grabbing n random pixels and use those to display the data on a grid\n",
        "class MyNaiveClassifier():  \n",
        "  def __init__(self, n_components):\n",
        "    self.n_components = n_components\n",
        "    self.components = np.zeros(n_components)\n",
        "\n",
        "  def fit(self, X):\n",
        "    X_flatten = torch.flatten(X, start_dim=1)\n",
        "    d = X_flatten.size(1)\n",
        "    for i in range(self.n_components):\n",
        "      while True:\n",
        "        self.components[i] = random.randint(0, d-1)\n",
        "        unique = True\n",
        "        for j in range(i):\n",
        "          if(self.components[j] == self.components[i]):\n",
        "            unique = False\n",
        "        if unique:\n",
        "          break\n",
        "    return self\n",
        "  \n",
        "  def transform(self, X):\n",
        "    X_flatten = torch.flatten(X, start_dim=1)\n",
        "    return X_flatten[:,self.components]\n",
        "  \n",
        "  def fit_transform(self, X):\n",
        "    self.fit(X)\n",
        "    return self.transform(X)"
      ],
      "metadata": {
        "id": "x_SavJg0erFU"
      },
      "execution_count": null,
      "outputs": []
    },
    {
      "cell_type": "code",
      "source": [
        "training_X = []; training_y = []; test_X = []; test_y = []\n",
        "for x, y in training_data:\n",
        "  training_X.append(x)\n",
        "  training_y.append(y)\n",
        "for x, y in test_data:\n",
        "  test_X.append(x)\n",
        "  test_y.append(y)\n",
        "training_X = torch.cat(training_X)\n",
        "test_X = torch.cat(test_X)\n",
        "training_y = torch.tensor(training_y)\n",
        "test_y = torch.tensor(test_y)"
      ],
      "metadata": {
        "id": "aOYRfA9pjXY5"
      },
      "execution_count": 14,
      "outputs": []
    },
    {
      "cell_type": "code",
      "execution_count": null,
      "metadata": {
        "id": "mnsexVwZmDvi",
        "colab": {
          "base_uri": "https://localhost:8080/"
        },
        "outputId": "cf7c4443-0a43-440e-d8c4-0d8022e30c2a"
      },
      "outputs": [
        {
          "output_type": "execute_result",
          "data": {
            "text/plain": [
              "torch.Size([60000, 100])"
            ]
          },
          "metadata": {},
          "execution_count": 8
        }
      ],
      "source": [
        "model = MyNaiveClassifier(n_components=100)\n",
        "model.fit_transform(training_X).shape"
      ]
    },
    {
      "cell_type": "code",
      "source": [
        "s = set(model.components)\n",
        "len(s) == len(model.components)"
      ],
      "metadata": {
        "colab": {
          "base_uri": "https://localhost:8080/"
        },
        "id": "_9d1ICbbOaFi",
        "outputId": "2035723b-1d11-4b9d-e6b0-ce780a252f35"
      },
      "execution_count": null,
      "outputs": [
        {
          "output_type": "execute_result",
          "data": {
            "text/plain": [
              "True"
            ]
          },
          "metadata": {},
          "execution_count": 9
        }
      ]
    },
    {
      "cell_type": "markdown",
      "source": [
        "Principal Component Analysis (PCA)"
      ],
      "metadata": {
        "id": "RDSPCZFSaY8C"
      }
    },
    {
      "cell_type": "code",
      "source": [
        "# TODO"
      ],
      "metadata": {
        "id": "X8sR7mMsactv"
      },
      "execution_count": null,
      "outputs": []
    },
    {
      "cell_type": "markdown",
      "metadata": {
        "id": "i08qX0P9l743"
      },
      "source": [
        "#Naive Bayes classifier"
      ]
    },
    {
      "cell_type": "markdown",
      "metadata": {
        "id": "QawZSvuCDo1e"
      },
      "source": [
        "Naive Bayes classifier as scikit-learn estimator"
      ]
    },
    {
      "cell_type": "code",
      "execution_count": 9,
      "metadata": {
        "id": "D5g0pCM2l_G7"
      },
      "outputs": [],
      "source": [
        "class NaiveBayes(BaseEstimator, ClassifierMixin):  \n",
        "\n",
        "  def __init__(self, ep):\n",
        "    self.ep = ep\n",
        "    self.freq = None\n",
        "    self.means = None\n",
        "    self.stddevs = None\n",
        "\n",
        "  def fit(self, X, y):\n",
        "    dig_dict = {}\n",
        "    for i in range(len(X)):\n",
        "      img = X[i]\n",
        "      label = y[i]\n",
        "      dig_dict.setdefault(label, []).append(img)\n",
        "    dig_keys = list(dig_dict.keys())\n",
        "    dig_keys.sort()\n",
        "    dig_dict = {i: dig_dict[i] for i in dig_keys}\n",
        "    self.freq = []\n",
        "    self.means = []\n",
        "    self.stddevs = []\n",
        "    for y in dig_dict:\n",
        "      self.freq.append(len(dig_dict[y]) / len(X))\n",
        "      self.means.append(torch.cat(dig_dict[y], dim=0).mean(dim=0).numpy())\n",
        "      self.stddevs.append((torch.cat(dig_dict[y], dim=0).std(dim=0) + self.ep).numpy())\n",
        "    self.freq = np.array(self.freq)\n",
        "    self.means = np.array(self.means)\n",
        "    self.stddevs = np.array(self.stddevs)\n",
        "    return self\n",
        "\n",
        "  def predict(self, X):\n",
        "    return 0\n",
        "\n",
        "  def score(self, X, y):\n",
        "    correct = 0\n",
        "    for i in range(len(X)):\n",
        "      '''\n",
        "      Numerical instabilities with original naive Bayes formula:\n",
        "      - Some pixels have 0 deviation: add small constant (epsilon) to all deviations, or clipping\n",
        "      - PDF is not bounded from above, so product of these large values can result in infinity: compute log-probabilities\n",
        "        - Relative order is preserved since log is increasing function, and breaks products into sums\n",
        "      - Log approaches negative infinity when probability approaches 0: clip to interval (lower bound), or add small constant \n",
        "      '''\n",
        "      prob = [np.log(np.clip(norm.pdf(X[i], self.means[y], self.stddevs[y]).squeeze(), 10**-10, None)).sum() + np.log(self.freq[y]) for y in range(len(self.freq))]\n",
        "      pred = prob.index(max(prob))\n",
        "      if pred == y[i]:\n",
        "        correct += 1\n",
        "    return correct/len(X)*100"
      ]
    },
    {
      "cell_type": "code",
      "execution_count": 15,
      "metadata": {
        "id": "W8KS6AQjfNp7"
      },
      "outputs": [],
      "source": [
        "model = NaiveBayes(ep=10**-5)"
      ]
    },
    {
      "cell_type": "code",
      "execution_count": 16,
      "metadata": {
        "id": "nd81BdGffnKw",
        "colab": {
          "base_uri": "https://localhost:8080/"
        },
        "outputId": "8ab425aa-1f43-4cd6-bcf5-cf4b16713084"
      },
      "outputs": [
        {
          "output_type": "execute_result",
          "data": {
            "text/plain": [
              "NaiveBayes(ep=1e-05)"
            ]
          },
          "metadata": {},
          "execution_count": 16
        }
      ],
      "source": [
        "model.fit(training_X, training_y)"
      ]
    },
    {
      "cell_type": "code",
      "execution_count": null,
      "metadata": {
        "id": "4jYwT0omfq1O"
      },
      "outputs": [],
      "source": [
        "model.score(test_X, test_y)"
      ]
    },
    {
      "cell_type": "markdown",
      "metadata": {
        "id": "Bh8zkSlLLfM9"
      },
      "source": [
        "GaussianNB (sklearn built-in estimator)"
      ]
    },
    {
      "cell_type": "code",
      "execution_count": null,
      "metadata": {
        "id": "fD4yyf1LNcpK"
      },
      "outputs": [],
      "source": [
        "training_X = torch.cat(training_X)\n",
        "test_X = torch.cat(test_X)\n",
        "training_y = torch.tensor(training_y)\n",
        "test_y = torch.tensor(test_y)"
      ]
    },
    {
      "cell_type": "code",
      "execution_count": null,
      "metadata": {
        "id": "4CUzoC-LNzcv"
      },
      "outputs": [],
      "source": [
        "training_X = torch.flatten(training_X, start_dim=1)\n",
        "test_X = torch.flatten(test_X, start_dim=1)"
      ]
    },
    {
      "cell_type": "code",
      "execution_count": null,
      "metadata": {
        "id": "DBTZD3T9LhOb"
      },
      "outputs": [],
      "source": [
        "gnb = GaussianNB()\n",
        "gnb.fit(training_X, training_y)\n",
        "y_pred = torch.from_numpy(gnb.predict(test_X))"
      ]
    },
    {
      "cell_type": "code",
      "execution_count": null,
      "metadata": {
        "id": "OYixfwoIOzdI"
      },
      "outputs": [],
      "source": [
        "print(torch.sum(y_pred == test_y).item()/len(test_y)*100)"
      ]
    },
    {
      "cell_type": "markdown",
      "metadata": {
        "id": "06zgGa2jDdbI"
      },
      "source": [
        "#SVM"
      ]
    },
    {
      "cell_type": "markdown",
      "metadata": {
        "id": "28wkqJSQX-Us"
      },
      "source": [
        "Support vector classification"
      ]
    },
    {
      "cell_type": "code",
      "execution_count": null,
      "metadata": {
        "id": "sM5iYPSuDexA"
      },
      "outputs": [],
      "source": [
        "clf = svm.LinearSVC() # LinearSVC is a faster implementation of SVC for the case of a linear kernel, used with large datasets"
      ]
    },
    {
      "cell_type": "code",
      "execution_count": null,
      "metadata": {
        "id": "ZrRz_wSIwH4A"
      },
      "outputs": [],
      "source": [
        "clf.fit(training_X, training_y)"
      ]
    },
    {
      "cell_type": "code",
      "execution_count": null,
      "metadata": {
        "id": "A51XEQ1FwIp7"
      },
      "outputs": [],
      "source": [
        "clf.score(test_X, test_y)"
      ]
    },
    {
      "cell_type": "markdown",
      "metadata": {
        "id": "nLjvvTcxDT1u"
      },
      "source": [
        "#Neural networks"
      ]
    },
    {
      "cell_type": "markdown",
      "metadata": {
        "id": "8fVW6SMjbuYF"
      },
      "source": [
        "Neural network architecture"
      ]
    },
    {
      "cell_type": "code",
      "source": [
        "w = training_X.shape[-2]\n",
        "h = training_X.shape[-1]"
      ],
      "metadata": {
        "id": "YDDHD3SFIL7Q"
      },
      "execution_count": null,
      "outputs": []
    },
    {
      "cell_type": "code",
      "execution_count": null,
      "metadata": {
        "id": "8cvxuIUVwTSB"
      },
      "outputs": [],
      "source": [
        "class NeuralNetwork(nn.Module):\n",
        "  # The constructor to your Module only initializes your layer types \n",
        "  # PyTorch keeps track of these variables, but it has no idea how the layers connect to each other\n",
        "  def __init__(self):\n",
        "    super().__init__()\n",
        "    self.layer1 = nn.Linear(w * h, 100)\n",
        "    self.layer2 = nn.Linear(100, 10)\n",
        "  # For PyTorch to understand the network architecture you’re building, you define the forward function\n",
        "  # Inside the forward function you take the variables initialized in your constructor and connect them\n",
        "  def forward(self, x: torch.Tensor) -> torch.Tensor:\n",
        "    x = self.layer1(x.flatten(start_dim=1))\n",
        "    x = F.relu(x)\n",
        "    x = self.layer2(x)\n",
        "    return x"
      ]
    },
    {
      "cell_type": "markdown",
      "metadata": {
        "id": "42dBpc3hbxZq"
      },
      "source": [
        "Feedforward neural network model"
      ]
    },
    {
      "cell_type": "code",
      "execution_count": 43,
      "metadata": {
        "id": "noX3wcGEwUVZ"
      },
      "outputs": [],
      "source": [
        "training_X = []; training_y = []; test_X = []; test_y = []\n",
        "for x, y in training_data:\n",
        "  training_X.append(x)\n",
        "  training_y.append(y)\n",
        "for x, y in test_data:\n",
        "  test_X.append(x)\n",
        "  test_y.append(y)\n",
        "training_X = torch.cat(training_X)\n",
        "test_X = torch.cat(test_X)\n",
        "training_y = torch.tensor(training_y)\n",
        "test_y = torch.tensor(test_y)"
      ]
    },
    {
      "cell_type": "code",
      "execution_count": null,
      "metadata": {
        "id": "PWGvNM4qwVZJ"
      },
      "outputs": [],
      "source": [
        "class NeuralNet(BaseEstimator, ClassifierMixin):  \n",
        "\n",
        "    def __init__(self, lr=1e-2, opt_class=optim.SGD, num_epochs=10, weight_decay=0, loss_function=nn.CrossEntropyLoss(), batch_size=64):\n",
        "        self.nn = NeuralNetwork()\n",
        "        self.lr = lr\n",
        "        self.opt_class = opt_class\n",
        "        self.weight_decay = weight_decay\n",
        "        self.batch_size = batch_size\n",
        "        self.num_epochs = num_epochs\n",
        "        self.optimizer = opt_class(self.nn.parameters(), lr=self.lr, weight_decay=self.weight_decay)\n",
        "        self.loss_function = loss_function\n",
        "\n",
        "    def fit(self, X, y):\n",
        "        self.nn.train()\n",
        "        dataset = TensorDataset(X, y)\n",
        "        dataloader = DataLoader(dataset, batch_size=self.batch_size, shuffle=True)\n",
        "        for epoch in range(self.num_epochs):\n",
        "          for x, y_lbl in tqdm(dataloader, desc=f\"Epoch {epoch+1}\"):\n",
        "            y_pred = self.nn(x)\n",
        "            loss = self.loss_function(y_pred, y_lbl)\n",
        "            self.optimizer.zero_grad()\n",
        "            loss.backward()\n",
        "            self.optimizer.step()\n",
        "        return self\n",
        "\n",
        "    def predict(self, X):\n",
        "      self.nn.eval()\n",
        "      preds = []\n",
        "      dataloader = DataLoader(X, batch_size=self.batch_size)\n",
        "      with torch.no_grad():\n",
        "        for x in dataloader:\n",
        "          y_pred = self.nn(x)\n",
        "          preds.append(y_pred)\n",
        "      return torch.cat(preds).argmax(dim=-1)\n",
        "    \n",
        "    def score(self, X, y):\n",
        "      preds = self.predict(X)\n",
        "      s = (y == preds).sum()\n",
        "      return (s/len(y)).item()"
      ]
    },
    {
      "cell_type": "code",
      "execution_count": null,
      "metadata": {
        "id": "XZ0IPV2dwWaA"
      },
      "outputs": [],
      "source": [
        "learning_rate = 1e-2\n",
        "num_epochs = 10\n",
        "batch_size = 64\n",
        "weight_decay = 0"
      ]
    },
    {
      "cell_type": "code",
      "execution_count": null,
      "metadata": {
        "id": "o2y4ILvawZp9",
        "colab": {
          "base_uri": "https://localhost:8080/"
        },
        "outputId": "978719b1-906d-42a2-b626-f9e2d1934851"
      },
      "outputs": [
        {
          "output_type": "execute_result",
          "data": {
            "text/plain": [
              "0.9307000041007996"
            ]
          },
          "metadata": {},
          "execution_count": 12
        }
      ],
      "source": [
        "model = NeuralNet(learning_rate, optim.SGD, num_epochs, weight_decay, nn.CrossEntropyLoss(), batch_size)\n",
        "model.fit(training_X, training_y)\n",
        "model.score(test_X, test_y)"
      ]
    },
    {
      "cell_type": "markdown",
      "metadata": {
        "id": "vIDkQHfXcMne"
      },
      "source": [
        "Grid search for finetuned hyperparameters"
      ]
    },
    {
      "cell_type": "code",
      "source": [
        "param_grid = {\n",
        "    'lr': [1e-2], \n",
        "    'opt_class': [optim.SGD, optim.Adam], \n",
        "    'num_epochs': [10], \n",
        "    'weight_decay': [0, 1e-3], \n",
        "    'loss_function': [nn.CrossEntropyLoss()], \n",
        "    'batch_size': [64],\n",
        "}"
      ],
      "metadata": {
        "id": "muh4SsLOKztX"
      },
      "execution_count": null,
      "outputs": []
    },
    {
      "cell_type": "code",
      "execution_count": null,
      "metadata": {
        "id": "rlLJ93l9K327"
      },
      "outputs": [],
      "source": [
        "estimator = NeuralNet()"
      ]
    },
    {
      "cell_type": "code",
      "source": [
        "gs_nn = GridSearchCV(estimator, param_grid, cv=3, n_jobs=-1, verbose=10)"
      ],
      "metadata": {
        "id": "fU5TSTNwK9VD"
      },
      "execution_count": null,
      "outputs": []
    },
    {
      "cell_type": "code",
      "source": [
        "gs_nn.fit(training_X, training_y)"
      ],
      "metadata": {
        "id": "xFLlVArfK8v4"
      },
      "execution_count": null,
      "outputs": []
    },
    {
      "cell_type": "code",
      "source": [
        "gs_nn.best_params_"
      ],
      "metadata": {
        "id": "D0YeUqpuK-Uf",
        "colab": {
          "base_uri": "https://localhost:8080/"
        },
        "outputId": "a4fb5812-ba1b-472b-a585-2ef0c5a559a1"
      },
      "execution_count": null,
      "outputs": [
        {
          "output_type": "execute_result",
          "data": {
            "text/plain": [
              "{'batch_size': 64,\n",
              " 'loss_function': CrossEntropyLoss(),\n",
              " 'lr': 0.01,\n",
              " 'num_epochs': 10,\n",
              " 'opt_class': torch.optim.sgd.SGD,\n",
              " 'weight_decay': 0}"
            ]
          },
          "metadata": {},
          "execution_count": 180
        }
      ]
    },
    {
      "cell_type": "code",
      "source": [
        "gs_nn.score(test_X, test_y)"
      ],
      "metadata": {
        "id": "8hr49Bn3K_fy",
        "colab": {
          "base_uri": "https://localhost:8080/"
        },
        "outputId": "1b72804f-5624-43fc-e641-f516aadba7c7"
      },
      "execution_count": null,
      "outputs": [
        {
          "output_type": "execute_result",
          "data": {
            "text/plain": [
              "0.897599995136261"
            ]
          },
          "metadata": {},
          "execution_count": 181
        }
      ]
    },
    {
      "cell_type": "markdown",
      "source": [
        "Image augmentation (torchvision.transforms)"
      ],
      "metadata": {
        "id": "TxU9qnsmB34N"
      }
    },
    {
      "cell_type": "code",
      "source": [
        "transform = transforms.Compose([\n",
        "    transforms.ToTensor(),\n",
        "    transforms.RandomInvert(0.5),\n",
        "    transforms.RandomApply([transforms.RandomRotation(degrees=(-30, 30))], p=0.5),\n",
        "    transforms.CenterCrop(20)\n",
        "])"
      ],
      "metadata": {
        "id": "HT-KMUaoCO0J"
      },
      "execution_count": null,
      "outputs": []
    },
    {
      "cell_type": "code",
      "source": [
        "bad_transform = transforms.Compose([\n",
        "    transforms.ToTensor(),\n",
        "    transforms.RandomHorizontalFlip(p=0.5),\n",
        "    transforms.RandomVerticalFlip(p=0.5)\n",
        "])"
      ],
      "metadata": {
        "id": "JJPiQ_u1KTBt"
      },
      "execution_count": null,
      "outputs": []
    },
    {
      "cell_type": "code",
      "source": [
        "training_data = datasets.MNIST(\n",
        "    root=\"data\",\n",
        "    train=True,\n",
        "    download=True,\n",
        "    transform=transform\n",
        ")\n",
        "test_data = datasets.MNIST(\n",
        "    root=\"data\",\n",
        "    train=False,\n",
        "    download=True,\n",
        "    transform=transforms.ToTensor()\n",
        ")"
      ],
      "metadata": {
        "id": "y59rd8RCB_bE"
      },
      "execution_count": null,
      "outputs": []
    },
    {
      "cell_type": "code",
      "source": [
        "figure = plt.figure(figsize=(8, 8))\n",
        "cols, rows = 3, 3\n",
        "for i in range(1, cols * rows + 1):\n",
        "    sample_idx = 1\n",
        "    img, label = training_data[sample_idx]\n",
        "    figure.add_subplot(rows, cols, i)\n",
        "    plt.title(label)\n",
        "    plt.axis(\"off\")\n",
        "    plt.imshow(img.squeeze(), cmap=\"gray\")\n",
        "plt.show()"
      ],
      "metadata": {
        "colab": {
          "base_uri": "https://localhost:8080/",
          "height": 482
        },
        "id": "EHLArMffFUJa",
        "outputId": "1fa2f9a4-7eed-41cb-f957-a9c3fa436807"
      },
      "execution_count": null,
      "outputs": [
        {
          "output_type": "display_data",
          "data": {
            "text/plain": [
              "<Figure size 576x576 with 9 Axes>"
            ],
            "image/png": "[encoded data removed]"
          },
          "metadata": {
            "needs_background": "light"
          }
        }
      ]
    },
    {
      "cell_type": "markdown",
      "source": [
        "Convolutional neural network"
      ],
      "metadata": {
        "id": "FFI-f7ziJSuE"
      }
    },
    {
      "cell_type": "code",
      "source": [
        "class LeNet(nn.Module):\n",
        "  def __init__(self, numChannels, classes):\n",
        "    # call the parent constructor\n",
        "    super().__init__()\n",
        "    # initialize first set of CONV => RELU => POOL layers\n",
        "    self.conv1 = nn.Conv2d(in_channels=numChannels, out_channels=20,\n",
        "      kernel_size=(5, 5))\n",
        "    self.relu1 = nn.ReLU()\n",
        "    self.maxpool1 = nn.MaxPool2d(kernel_size=(2, 2), stride=(2, 2))\n",
        "    # initialize second set of CONV => RELU => POOL layers\n",
        "    self.conv2 = nn.Conv2d(in_channels=20, out_channels=50, kernel_size=(5, 5))\n",
        "    self.relu2 = nn.ReLU()\n",
        "    self.maxpool2 = nn.MaxPool2d(kernel_size=(2, 2), stride=(2, 2))\n",
        "    # initialize first (and only) set of FC => RELU layers\n",
        "    self.fc1 = nn.Linear(in_features=800, out_features=500)\n",
        "    self.relu3 = nn.ReLU()\n",
        "    # initialize our softmax classifier\n",
        "    self.fc2 = nn.Linear(in_features=500, out_features=classes)\n",
        "\n",
        "  def forward(self, x):\n",
        "    # pass the input through our first set of CONV => RELU => POOL layers\n",
        "    x = self.conv1(x)\n",
        "    x = self.relu1(x)\n",
        "    x = self.maxpool1(x)\n",
        "    # pass the output from the previous layer through the second set of CONV => RELU => POOL layers\n",
        "    x = self.conv2(x)\n",
        "    x = self.relu2(x)\n",
        "    x = self.maxpool2(x)\n",
        "    # flatten the output from the previous layer and pass it through our only set of FC => RELU layers\n",
        "    x = x.flatten(start_dim=1)\n",
        "    x = self.fc1(x)\n",
        "    x = self.relu3(x)\n",
        "    # pass the output to our softmax classifier to get our output\n",
        "    # predictions\n",
        "    x = self.fc2(x)\n",
        "    # return the output predictions\n",
        "    return x"
      ],
      "metadata": {
        "id": "YyD-Mo1RJZ-7"
      },
      "execution_count": null,
      "outputs": []
    },
    {
      "cell_type": "code",
      "source": [
        "class ConvNeuralNet(BaseEstimator, ClassifierMixin):  \n",
        "\n",
        "    def __init__(self, lr=1e-2, opt_class=optim.SGD, num_epochs=10,\n",
        "                 weight_decay=0, loss_function=nn.CrossEntropyLoss(), batch_size=64, num_channels=1, classes=10, device=\"cpu\"):\n",
        "        self.device = device\n",
        "        self.classes = classes\n",
        "        self.num_channels = num_channels\n",
        "        self.nn = LeNet(num_channels, classes).to(device)\n",
        "        self.lr = lr\n",
        "        self.opt_class = opt_class\n",
        "        self.weight_decay = weight_decay\n",
        "        self.batch_size = batch_size\n",
        "        self.num_epochs = num_epochs\n",
        "        self.optimizer = opt_class(self.nn.parameters(), lr=self.lr, weight_decay=self.weight_decay)\n",
        "        self.loss_function = loss_function\n",
        "        self.training_history = []\n",
        "\n",
        "    def fit(self, X, y, X_val=None, y_val=None):\n",
        "        self.nn.train()\n",
        "        self.nn = self.nn.to(self.device)\n",
        "        dataset = TensorDataset(X[:, None], y) # X[:, None] adds dimension for num_channels\n",
        "        dataloader = DataLoader(dataset, batch_size=self.batch_size, shuffle=True)\n",
        "        for epoch in range(self.num_epochs):\n",
        "          for x, y_lbl in tqdm(dataloader, desc=f\"Epoch {epoch+1}\"):\n",
        "            x, y_lbl = x.to(self.device), y_lbl.to(self.device)\n",
        "            y_pred = self.nn(x)\n",
        "            loss = self.loss_function(y_pred, y_lbl)\n",
        "            self.optimizer.zero_grad()\n",
        "            loss.backward()\n",
        "            self.optimizer.step()\n",
        "          if X_val != None and y_val != None:\n",
        "            accuracy = self.score(X_val, y_val)\n",
        "            self.training_history.append(accuracy)\n",
        "            print(f\"Epoch {epoch+1}: {accuracy}\")\n",
        "        return self\n",
        "\n",
        "    def predict(self, X):\n",
        "      self.nn.eval()\n",
        "      self.nn = self.nn.to(self.device)\n",
        "      preds = []\n",
        "      dataloader = DataLoader(X[:, None], batch_size=self.batch_size)\n",
        "      with torch.no_grad():\n",
        "        for x in dataloader:\n",
        "          x = x.to(self.device)\n",
        "          y_pred = self.nn(x).cpu()\n",
        "          preds.append(y_pred)\n",
        "      return torch.cat(preds).argmax(dim=-1)\n",
        "    \n",
        "    def score(self, X, y):\n",
        "      preds = self.predict(X)\n",
        "      s = (y == preds).sum()\n",
        "      return (s/len(y)).item()"
      ],
      "metadata": {
        "id": "mUHzsCgtRJZI"
      },
      "execution_count": null,
      "outputs": []
    },
    {
      "cell_type": "code",
      "source": [
        "training_X = []; training_y = []; test_X = []; test_y = []\n",
        "for x, y in training_data:\n",
        "  training_X.append(x)\n",
        "  training_y.append(y)\n",
        "for x, y in test_data:\n",
        "  test_X.append(x)\n",
        "  test_y.append(y)\n",
        "training_X = torch.cat(training_X)\n",
        "test_X = torch.cat(test_X)\n",
        "training_y = torch.tensor(training_y)\n",
        "test_y = torch.tensor(test_y)"
      ],
      "metadata": {
        "id": "IFjDH7LLWOdd"
      },
      "execution_count": 188,
      "outputs": []
    },
    {
      "cell_type": "code",
      "source": [
        "model = ConvNeuralNet(learning_rate, optim.SGD, 20, weight_decay, nn.CrossEntropyLoss(), batch_size, 1, 20, \"cuda:0\")"
      ],
      "metadata": {
        "id": "b2Z-YK6SMkTM"
      },
      "execution_count": 68,
      "outputs": []
    },
    {
      "cell_type": "code",
      "source": [
        "model.fit(training_X, training_y, test_X, test_y)"
      ],
      "metadata": {
        "colab": {
          "base_uri": "https://localhost:8080/"
        },
        "id": "j5GwQJe_nfCF",
        "outputId": "779c9f49-3ba2-42a5-a253-9735872faf84"
      },
      "execution_count": 69,
      "outputs": [
        {
          "output_type": "stream",
          "name": "stderr",
          "text": [
            "Epoch 1: 100%|██████████| 938/938 [00:02<00:00, 395.14it/s]\n"
          ]
        },
        {
          "output_type": "stream",
          "name": "stdout",
          "text": [
            "Epoch 1: 0.9125000238418579\n"
          ]
        },
        {
          "output_type": "stream",
          "name": "stderr",
          "text": [
            "Epoch 2: 100%|██████████| 938/938 [00:02<00:00, 325.09it/s]\n"
          ]
        },
        {
          "output_type": "stream",
          "name": "stdout",
          "text": [
            "Epoch 2: 0.9466999769210815\n"
          ]
        },
        {
          "output_type": "stream",
          "name": "stderr",
          "text": [
            "Epoch 3: 100%|██████████| 938/938 [00:02<00:00, 399.53it/s]\n"
          ]
        },
        {
          "output_type": "stream",
          "name": "stdout",
          "text": [
            "Epoch 3: 0.9671000242233276\n"
          ]
        },
        {
          "output_type": "stream",
          "name": "stderr",
          "text": [
            "Epoch 4: 100%|██████████| 938/938 [00:02<00:00, 403.45it/s]\n"
          ]
        },
        {
          "output_type": "stream",
          "name": "stdout",
          "text": [
            "Epoch 4: 0.9722999930381775\n"
          ]
        },
        {
          "output_type": "stream",
          "name": "stderr",
          "text": [
            "Epoch 5: 100%|██████████| 938/938 [00:02<00:00, 405.92it/s]\n"
          ]
        },
        {
          "output_type": "stream",
          "name": "stdout",
          "text": [
            "Epoch 5: 0.9714999794960022\n"
          ]
        },
        {
          "output_type": "stream",
          "name": "stderr",
          "text": [
            "Epoch 6: 100%|██████████| 938/938 [00:02<00:00, 378.77it/s]\n"
          ]
        },
        {
          "output_type": "stream",
          "name": "stdout",
          "text": [
            "Epoch 6: 0.9775999784469604\n"
          ]
        },
        {
          "output_type": "stream",
          "name": "stderr",
          "text": [
            "Epoch 7: 100%|██████████| 938/938 [00:02<00:00, 349.03it/s]\n"
          ]
        },
        {
          "output_type": "stream",
          "name": "stdout",
          "text": [
            "Epoch 7: 0.9818999767303467\n"
          ]
        },
        {
          "output_type": "stream",
          "name": "stderr",
          "text": [
            "Epoch 8: 100%|██████████| 938/938 [00:02<00:00, 393.24it/s]\n"
          ]
        },
        {
          "output_type": "stream",
          "name": "stdout",
          "text": [
            "Epoch 8: 0.9835000038146973\n"
          ]
        },
        {
          "output_type": "stream",
          "name": "stderr",
          "text": [
            "Epoch 9: 100%|██████████| 938/938 [00:02<00:00, 392.42it/s]\n"
          ]
        },
        {
          "output_type": "stream",
          "name": "stdout",
          "text": [
            "Epoch 9: 0.9815999865531921\n"
          ]
        },
        {
          "output_type": "stream",
          "name": "stderr",
          "text": [
            "Epoch 10: 100%|██████████| 938/938 [00:02<00:00, 404.98it/s]\n"
          ]
        },
        {
          "output_type": "stream",
          "name": "stdout",
          "text": [
            "Epoch 10: 0.9847000241279602\n"
          ]
        },
        {
          "output_type": "stream",
          "name": "stderr",
          "text": [
            "Epoch 11: 100%|██████████| 938/938 [00:02<00:00, 335.29it/s]\n"
          ]
        },
        {
          "output_type": "stream",
          "name": "stdout",
          "text": [
            "Epoch 11: 0.9846000075340271\n"
          ]
        },
        {
          "output_type": "stream",
          "name": "stderr",
          "text": [
            "Epoch 12: 100%|██████████| 938/938 [00:02<00:00, 391.71it/s]\n"
          ]
        },
        {
          "output_type": "stream",
          "name": "stdout",
          "text": [
            "Epoch 12: 0.9860000014305115\n"
          ]
        },
        {
          "output_type": "stream",
          "name": "stderr",
          "text": [
            "Epoch 13: 100%|██████████| 938/938 [00:02<00:00, 397.55it/s]\n"
          ]
        },
        {
          "output_type": "stream",
          "name": "stdout",
          "text": [
            "Epoch 13: 0.987500011920929\n"
          ]
        },
        {
          "output_type": "stream",
          "name": "stderr",
          "text": [
            "Epoch 14: 100%|██████████| 938/938 [00:02<00:00, 396.06it/s]\n"
          ]
        },
        {
          "output_type": "stream",
          "name": "stdout",
          "text": [
            "Epoch 14: 0.9869999885559082\n"
          ]
        },
        {
          "output_type": "stream",
          "name": "stderr",
          "text": [
            "Epoch 15: 100%|██████████| 938/938 [00:02<00:00, 399.72it/s]\n"
          ]
        },
        {
          "output_type": "stream",
          "name": "stdout",
          "text": [
            "Epoch 15: 0.9883000254631042\n"
          ]
        },
        {
          "output_type": "stream",
          "name": "stderr",
          "text": [
            "Epoch 16: 100%|██████████| 938/938 [00:02<00:00, 326.63it/s]\n"
          ]
        },
        {
          "output_type": "stream",
          "name": "stdout",
          "text": [
            "Epoch 16: 0.9882000088691711\n"
          ]
        },
        {
          "output_type": "stream",
          "name": "stderr",
          "text": [
            "Epoch 17: 100%|██████████| 938/938 [00:02<00:00, 387.09it/s]\n"
          ]
        },
        {
          "output_type": "stream",
          "name": "stdout",
          "text": [
            "Epoch 17: 0.9882000088691711\n"
          ]
        },
        {
          "output_type": "stream",
          "name": "stderr",
          "text": [
            "Epoch 18: 100%|██████████| 938/938 [00:02<00:00, 402.78it/s]\n"
          ]
        },
        {
          "output_type": "stream",
          "name": "stdout",
          "text": [
            "Epoch 18: 0.987500011920929\n"
          ]
        },
        {
          "output_type": "stream",
          "name": "stderr",
          "text": [
            "Epoch 19: 100%|██████████| 938/938 [00:02<00:00, 399.40it/s]\n"
          ]
        },
        {
          "output_type": "stream",
          "name": "stdout",
          "text": [
            "Epoch 19: 0.9890000224113464\n"
          ]
        },
        {
          "output_type": "stream",
          "name": "stderr",
          "text": [
            "Epoch 20: 100%|██████████| 938/938 [00:02<00:00, 349.85it/s]\n"
          ]
        },
        {
          "output_type": "stream",
          "name": "stdout",
          "text": [
            "Epoch 20: 0.9882000088691711\n"
          ]
        },
        {
          "output_type": "execute_result",
          "data": {
            "text/plain": [
              "ConvNeuralNet(classes=20, device='cuda:0', num_epochs=20)"
            ]
          },
          "metadata": {},
          "execution_count": 69
        }
      ]
    },
    {
      "cell_type": "code",
      "source": [
        "plt.plot(model.training_history, marker=\"o\")\n",
        "plt.show()"
      ],
      "metadata": {
        "colab": {
          "base_uri": "https://localhost:8080/",
          "height": 265
        },
        "id": "nm27S3FViP58",
        "outputId": "0867342f-f858-4741-e9f2-91aa852ea5ce"
      },
      "execution_count": null,
      "outputs": [
        {
          "output_type": "display_data",
          "data": {
            "text/plain": [
              "<Figure size 432x288 with 1 Axes>"
            ],
            "image/png": "[encoded data removed]"
          },
          "metadata": {
            "needs_background": "light"
          }
        }
      ]
    },
    {
      "cell_type": "code",
      "source": [
        "model.score(test_X, test_y)"
      ],
      "metadata": {
        "colab": {
          "base_uri": "https://localhost:8080/"
        },
        "id": "km_L55DvngGu",
        "outputId": "39d2c20e-4746-4425-be89-060fe15e3efb"
      },
      "execution_count": null,
      "outputs": [
        {
          "output_type": "execute_result",
          "data": {
            "text/plain": [
              "0.9876999855041504"
            ]
          },
          "metadata": {},
          "execution_count": 12
        }
      ]
    },
    {
      "cell_type": "code",
      "source": [
        "print(model.nn.conv1.weight)\n",
        "print(model.nn.conv1.bias)"
      ],
      "metadata": {
        "id": "xgAw7QZ4cvdD"
      },
      "execution_count": null,
      "outputs": []
    },
    {
      "cell_type": "code",
      "source": [
        "param_grid = {\n",
        "    'lr': [1e-2], \n",
        "    'opt_class': [optim.SGD], \n",
        "    'num_epochs': [10, 20, 30, 40], \n",
        "    'weight_decay': [0], \n",
        "    'loss_function': [nn.CrossEntropyLoss()], \n",
        "    'batch_size': [64],\n",
        "    'num_channels': [1],\n",
        "    'classes': [10],\n",
        "    'device': [\"cuda:0\"]\n",
        "}"
      ],
      "metadata": {
        "id": "16yjXGdhi36m"
      },
      "execution_count": null,
      "outputs": []
    },
    {
      "cell_type": "code",
      "execution_count": null,
      "metadata": {
        "id": "IBrECY9li36u"
      },
      "outputs": [],
      "source": [
        "estimator = ConvNeuralNet()"
      ]
    },
    {
      "cell_type": "code",
      "source": [
        "gs_nn = GridSearchCV(estimator, param_grid, cv=3)"
      ],
      "metadata": {
        "id": "3c-JaMnei36u"
      },
      "execution_count": null,
      "outputs": []
    },
    {
      "cell_type": "code",
      "source": [
        "gs_nn.fit(training_X, training_y)"
      ],
      "metadata": {
        "id": "iem6FPEwi36u"
      },
      "execution_count": null,
      "outputs": []
    },
    {
      "cell_type": "code",
      "source": [
        "gs_nn.best_params_"
      ],
      "metadata": {
        "colab": {
          "base_uri": "https://localhost:8080/"
        },
        "outputId": "8ca3d861-dbe4-4ddb-be61-751b5d25af44",
        "id": "ha0-rF1gi36u"
      },
      "execution_count": null,
      "outputs": [
        {
          "output_type": "execute_result",
          "data": {
            "text/plain": [
              "{'batch_size': 64,\n",
              " 'classes': 10,\n",
              " 'device': 'cuda:0',\n",
              " 'loss_function': CrossEntropyLoss(),\n",
              " 'lr': 0.01,\n",
              " 'num_channels': 1,\n",
              " 'num_epochs': 40,\n",
              " 'opt_class': torch.optim.sgd.SGD,\n",
              " 'weight_decay': 0}"
            ]
          },
          "metadata": {},
          "execution_count": 64
        }
      ]
    },
    {
      "cell_type": "code",
      "source": [
        "gs_nn.score(test_X, test_y)"
      ],
      "metadata": {
        "colab": {
          "base_uri": "https://localhost:8080/"
        },
        "outputId": "c3fe8bf6-7e3b-42dd-d20f-a3cbdbf47039",
        "id": "HWvLrmNni36u"
      },
      "execution_count": null,
      "outputs": [
        {
          "output_type": "execute_result",
          "data": {
            "text/plain": [
              "0.9894000291824341"
            ]
          },
          "metadata": {},
          "execution_count": 65
        }
      ]
    },
    {
      "cell_type": "code",
      "source": [
        "list(model.nn.children())[:-2]"
      ],
      "metadata": {
        "colab": {
          "base_uri": "https://localhost:8080/"
        },
        "id": "-qMB7DTke86X",
        "outputId": "fec1c218-013a-402e-e247-df17cd0780b8"
      },
      "execution_count": null,
      "outputs": [
        {
          "output_type": "execute_result",
          "data": {
            "text/plain": [
              "[Conv2d(1, 20, kernel_size=(5, 5), stride=(1, 1)),\n",
              " ReLU(),\n",
              " MaxPool2d(kernel_size=(2, 2), stride=(2, 2), padding=0, dilation=1, ceil_mode=False),\n",
              " Conv2d(20, 50, kernel_size=(5, 5), stride=(1, 1)),\n",
              " ReLU(),\n",
              " MaxPool2d(kernel_size=(2, 2), stride=(2, 2), padding=0, dilation=1, ceil_mode=False),\n",
              " Linear(in_features=800, out_features=500, bias=True)]"
            ]
          },
          "metadata": {},
          "execution_count": 75
        }
      ]
    },
    {
      "cell_type": "markdown",
      "source": [
        "Saving and reloading trained model"
      ],
      "metadata": {
        "id": "Mromn7p7XCCO"
      }
    },
    {
      "cell_type": "code",
      "source": [
        "torch.save(model, 'model.pth')"
      ],
      "metadata": {
        "id": "_DiXlRYEXHCQ"
      },
      "execution_count": 35,
      "outputs": []
    },
    {
      "cell_type": "code",
      "source": [
        "model = torch.load('model.pth')"
      ],
      "metadata": {
        "id": "LRsUa-EvZ1kf"
      },
      "execution_count": 36,
      "outputs": []
    },
    {
      "cell_type": "code",
      "source": [
        "model.score(test_X, test_y)"
      ],
      "metadata": {
        "colab": {
          "base_uri": "https://localhost:8080/"
        },
        "id": "8eCzlMTOZ39d",
        "outputId": "abf04d02-a572-4f06-cd8a-e8c0f2d86973"
      },
      "execution_count": 37,
      "outputs": [
        {
          "output_type": "execute_result",
          "data": {
            "text/plain": [
              "0.9889000058174133"
            ]
          },
          "metadata": {},
          "execution_count": 37
        }
      ]
    },
    {
      "cell_type": "markdown",
      "source": [
        "#Representation learning"
      ],
      "metadata": {
        "id": "LUoNOTKfeiO5"
      }
    },
    {
      "cell_type": "markdown",
      "source": [
        "Embeddings"
      ],
      "metadata": {
        "id": "VpNG_rfwUOc4"
      }
    },
    {
      "cell_type": "code",
      "source": [
        "class LeNetEmbeddings(nn.Module):\n",
        "  def __init__(self, cnn):\n",
        "    # call the parent constructor\n",
        "    super().__init__()\n",
        "    self.cnn = cnn\n",
        "\n",
        "  def forward(self, x):\n",
        "    # pass the input through our first set of CONV => RELU => POOL layers\n",
        "    x = self.cnn.conv1(x)\n",
        "    x = self.cnn.relu1(x)\n",
        "    x = self.cnn.maxpool1(x)\n",
        "    # pass the output from the previous layer through the second set of CONV => RELU => POOL layers\n",
        "    x = self.cnn.conv2(x)\n",
        "    x = self.cnn.relu2(x)\n",
        "    x = self.cnn.maxpool2(x)\n",
        "    # flatten the output from the previous layer and pass it through our only set of FC => RELU layers\n",
        "    x = x.flatten(start_dim=1)\n",
        "    x = self.cnn.fc1(x)\n",
        "    return x"
      ],
      "metadata": {
        "id": "9dJzgI7Qf1t1"
      },
      "execution_count": 70,
      "outputs": []
    },
    {
      "cell_type": "code",
      "source": [
        "feature_extractor = LeNetEmbeddings(model.nn.cpu()).to(\"cuda:0\").eval()"
      ],
      "metadata": {
        "id": "fHmi7Ad8giYk"
      },
      "execution_count": 136,
      "outputs": []
    },
    {
      "cell_type": "code",
      "source": [
        "training_embeddings = []\n",
        "dataset = TensorDataset(training_X[:, None], training_y)\n",
        "dataloader = DataLoader(dataset, shuffle=True)\n",
        "for x, y_lbl in dataloader:\n",
        "  x, y_lbl = x.to(\"cuda:0\"), y_lbl.to(\"cuda:0\")\n",
        "  with torch.no_grad():\n",
        "    embedding = feature_extractor(x).cpu()\n",
        "  training_embeddings.append(embedding)\n",
        "# The only things you put in the GPU are the model, its parameters, and the specific batch that you are computing\n",
        "# But once you finish computing you move the data back to the CPU"
      ],
      "metadata": {
        "id": "iRNtOJP5gvly"
      },
      "execution_count": 189,
      "outputs": []
    },
    {
      "cell_type": "code",
      "source": [
        "training_embeddings = torch.cat(training_embeddings, dim=0)\n",
        "training_embeddings.shape # Compression from 28 x 28 => 500 (not a lot of compression, but with larger RGB images it's a much compressed representation)"
      ],
      "metadata": {
        "colab": {
          "base_uri": "https://localhost:8080/"
        },
        "id": "_kkPmzr5lls_",
        "outputId": "81aca4bf-78f1-4779-cca4-7e254b83209e"
      },
      "execution_count": 140,
      "outputs": [
        {
          "output_type": "execute_result",
          "data": {
            "text/plain": [
              "torch.Size([60000, 500])"
            ]
          },
          "metadata": {},
          "execution_count": 140
        }
      ]
    },
    {
      "cell_type": "code",
      "source": [
        "test_embeddings = []\n",
        "dataset = TensorDataset(test_X[:, None], test_y)\n",
        "dataloader = DataLoader(dataset, shuffle=True)\n",
        "for x, y_lbl in dataloader:\n",
        "  x, y_lbl = x.to(\"cuda:0\"), y_lbl.to(\"cuda:0\")\n",
        "  with torch.no_grad():\n",
        "    embedding = feature_extractor(x).cpu()\n",
        "  test_embeddings.append(embedding)"
      ],
      "metadata": {
        "id": "4OoCz91uffVJ"
      },
      "execution_count": 190,
      "outputs": []
    },
    {
      "cell_type": "code",
      "source": [
        "clf = EuclideanClassifier()"
      ],
      "metadata": {
        "id": "cBkTu50Anoio"
      },
      "execution_count": 192,
      "outputs": []
    },
    {
      "cell_type": "code",
      "source": [
        "clf.fit(training_embeddings, training_y)"
      ],
      "metadata": {
        "colab": {
          "base_uri": "https://localhost:8080/"
        },
        "id": "sDuqgxKfnwL9",
        "outputId": "8fadf058-4492-4dc0-bcd6-93decdfdc8a6"
      },
      "execution_count": 193,
      "outputs": [
        {
          "output_type": "execute_result",
          "data": {
            "text/plain": [
              "EuclideanClassifier()"
            ]
          },
          "metadata": {},
          "execution_count": 193
        }
      ]
    },
    {
      "cell_type": "code",
      "source": [
        "clf.score(test_embeddings, test_y)"
      ],
      "metadata": {
        "id": "1NHllLGoxSbc",
        "colab": {
          "base_uri": "https://localhost:8080/"
        },
        "outputId": "12109784-ce01-41bc-a85f-e36b2409da09"
      },
      "execution_count": 194,
      "outputs": [
        {
          "output_type": "execute_result",
          "data": {
            "text/plain": [
              "0.1015"
            ]
          },
          "metadata": {},
          "execution_count": 194
        }
      ]
    },
    {
      "cell_type": "markdown",
      "source": [
        "Autoencoders"
      ],
      "metadata": {
        "id": "py5NAInhU-Tr"
      }
    },
    {
      "cell_type": "code",
      "source": [
        "class Autoencoder(nn.Module):\n",
        "  def __init__(self):\n",
        "    self.encoder = nn.Sequential(\n",
        "        nn.Linear(28 * 28, 64),\n",
        "        nn.ReLU()\n",
        "    )\n",
        "    self.decoder = nn.Sequential(\n",
        "        nn.Linear(64, 28 * 28),\n",
        "        nn.Sigmoid()\n",
        "    )\n",
        "\n",
        "  def forward(self, x):\n",
        "    x = self.decoder(self.encoder(x))\n",
        "    return x"
      ],
      "metadata": {
        "id": "fOfb-NqzVadU"
      },
      "execution_count": null,
      "outputs": []
    }
  ],
  "metadata": {
    "colab": {
      "toc_visible": true,
      "provenance": [],
      "authorship_tag": "ABX9TyNVTPweqYPI2lTb5Uuq9HGI",
      "include_colab_link": true
    },
    "kernelspec": {
      "display_name": "Python 3",
      "name": "python3"
    },
    "language_info": {
      "name": "python"
    },
    "widgets": {
      "application/vnd.jupyter.widget-state+json": {
        "23c247257c0b4ad1a2d326cd0267b558": {
          "model_module": "@jupyter-widgets/controls",
          "model_name": "HBoxModel",
          "model_module_version": "1.5.0",
          "state": {
            "_dom_classes": [],
            "_model_module": "@jupyter-widgets/controls",
            "_model_module_version": "1.5.0",
            "_model_name": "HBoxModel",
            "_view_count": null,
            "_view_module": "@jupyter-widgets/controls",
            "_view_module_version": "1.5.0",
            "_view_name": "HBoxView",
            "box_style": "",
            "children": [
              "IPY_MODEL_aff465145d8d40aeaa9bfed0a556a2cd",
              "IPY_MODEL_b57755b4850f4d5d9ef8d884baa9fa73",
              "IPY_MODEL_02b39265a4b04a1daa86e8f776b1941d"
            ],
            "layout": "IPY_MODEL_99f77bc2bae44a559d02bb17bc592b53"
          }
        },
        "aff465145d8d40aeaa9bfed0a556a2cd": {
          "model_module": "@jupyter-widgets/controls",
          "model_name": "HTMLModel",
          "model_module_version": "1.5.0",
          "state": {
            "_dom_classes": [],
            "_model_module": "@jupyter-widgets/controls",
            "_model_module_version": "1.5.0",
            "_model_name": "HTMLModel",
            "_view_count": null,
            "_view_module": "@jupyter-widgets/controls",
            "_view_module_version": "1.5.0",
            "_view_name": "HTMLView",
            "description": "",
            "description_tooltip": null,
            "layout": "IPY_MODEL_4e72e4c694c84b6d8df8716f8581639d",
            "placeholder": "​",
            "style": "IPY_MODEL_ddb57bf24a494f3fa3e981ecb7bd0658",
            "value": "100%"
          }
        },
        "b57755b4850f4d5d9ef8d884baa9fa73": {
          "model_module": "@jupyter-widgets/controls",
          "model_name": "FloatProgressModel",
          "model_module_version": "1.5.0",
          "state": {
            "_dom_classes": [],
            "_model_module": "@jupyter-widgets/controls",
            "_model_module_version": "1.5.0",
            "_model_name": "FloatProgressModel",
            "_view_count": null,
            "_view_module": "@jupyter-widgets/controls",
            "_view_module_version": "1.5.0",
            "_view_name": "ProgressView",
            "bar_style": "success",
            "description": "",
            "description_tooltip": null,
            "layout": "IPY_MODEL_0499f203f58941899d62debd2f7b71a2",
            "max": 9912422,
            "min": 0,
            "orientation": "horizontal",
            "style": "IPY_MODEL_f6588efe9d514ca3abb3478c365511e4",
            "value": 9912422
          }
        },
        "02b39265a4b04a1daa86e8f776b1941d": {
          "model_module": "@jupyter-widgets/controls",
          "model_name": "HTMLModel",
          "model_module_version": "1.5.0",
          "state": {
            "_dom_classes": [],
            "_model_module": "@jupyter-widgets/controls",
            "_model_module_version": "1.5.0",
            "_model_name": "HTMLModel",
            "_view_count": null,
            "_view_module": "@jupyter-widgets/controls",
            "_view_module_version": "1.5.0",
            "_view_name": "HTMLView",
            "description": "",
            "description_tooltip": null,
            "layout": "IPY_MODEL_642b4f48b53f4e0495182d1d4e63f76c",
            "placeholder": "​",
            "style": "IPY_MODEL_7e9b43e0996d47aba525cac417ff0269",
            "value": " 9912422/9912422 [00:00&lt;00:00, 23209952.19it/s]"
          }
        },
        "99f77bc2bae44a559d02bb17bc592b53": {
          "model_module": "@jupyter-widgets/base",
          "model_name": "LayoutModel",
          "model_module_version": "1.2.0",
          "state": {
            "_model_module": "@jupyter-widgets/base",
            "_model_module_version": "1.2.0",
            "_model_name": "LayoutModel",
            "_view_count": null,
            "_view_module": "@jupyter-widgets/base",
            "_view_module_version": "1.2.0",
            "_view_name": "LayoutView",
            "align_content": null,
            "align_items": null,
            "align_self": null,
            "border": null,
            "bottom": null,
            "display": null,
            "flex": null,
            "flex_flow": null,
            "grid_area": null,
            "grid_auto_columns": null,
            "grid_auto_flow": null,
            "grid_auto_rows": null,
            "grid_column": null,
            "grid_gap": null,
            "grid_row": null,
            "grid_template_areas": null,
            "grid_template_columns": null,
            "grid_template_rows": null,
            "height": null,
            "justify_content": null,
            "justify_items": null,
            "left": null,
            "margin": null,
            "max_height": null,
            "max_width": null,
            "min_height": null,
            "min_width": null,
            "object_fit": null,
            "object_position": null,
            "order": null,
            "overflow": null,
            "overflow_x": null,
            "overflow_y": null,
            "padding": null,
            "right": null,
            "top": null,
            "visibility": null,
            "width": null
          }
        },
        "4e72e4c694c84b6d8df8716f8581639d": {
          "model_module": "@jupyter-widgets/base",
          "model_name": "LayoutModel",
          "model_module_version": "1.2.0",
          "state": {
            "_model_module": "@jupyter-widgets/base",
            "_model_module_version": "1.2.0",
            "_model_name": "LayoutModel",
            "_view_count": null,
            "_view_module": "@jupyter-widgets/base",
            "_view_module_version": "1.2.0",
            "_view_name": "LayoutView",
            "align_content": null,
            "align_items": null,
            "align_self": null,
            "border": null,
            "bottom": null,
            "display": null,
            "flex": null,
            "flex_flow": null,
            "grid_area": null,
            "grid_auto_columns": null,
            "grid_auto_flow": null,
            "grid_auto_rows": null,
            "grid_column": null,
            "grid_gap": null,
            "grid_row": null,
            "grid_template_areas": null,
            "grid_template_columns": null,
            "grid_template_rows": null,
            "height": null,
            "justify_content": null,
            "justify_items": null,
            "left": null,
            "margin": null,
            "max_height": null,
            "max_width": null,
            "min_height": null,
            "min_width": null,
            "object_fit": null,
            "object_position": null,
            "order": null,
            "overflow": null,
            "overflow_x": null,
            "overflow_y": null,
            "padding": null,
            "right": null,
            "top": null,
            "visibility": null,
            "width": null
          }
        },
        "ddb57bf24a494f3fa3e981ecb7bd0658": {
          "model_module": "@jupyter-widgets/controls",
          "model_name": "DescriptionStyleModel",
          "model_module_version": "1.5.0",
          "state": {
            "_model_module": "@jupyter-widgets/controls",
            "_model_module_version": "1.5.0",
            "_model_name": "DescriptionStyleModel",
            "_view_count": null,
            "_view_module": "@jupyter-widgets/base",
            "_view_module_version": "1.2.0",
            "_view_name": "StyleView",
            "description_width": ""
          }
        },
        "0499f203f58941899d62debd2f7b71a2": {
          "model_module": "@jupyter-widgets/base",
          "model_name": "LayoutModel",
          "model_module_version": "1.2.0",
          "state": {
            "_model_module": "@jupyter-widgets/base",
            "_model_module_version": "1.2.0",
            "_model_name": "LayoutModel",
            "_view_count": null,
            "_view_module": "@jupyter-widgets/base",
            "_view_module_version": "1.2.0",
            "_view_name": "LayoutView",
            "align_content": null,
            "align_items": null,
            "align_self": null,
            "border": null,
            "bottom": null,
            "display": null,
            "flex": null,
            "flex_flow": null,
            "grid_area": null,
            "grid_auto_columns": null,
            "grid_auto_flow": null,
            "grid_auto_rows": null,
            "grid_column": null,
            "grid_gap": null,
            "grid_row": null,
            "grid_template_areas": null,
            "grid_template_columns": null,
            "grid_template_rows": null,
            "height": null,
            "justify_content": null,
            "justify_items": null,
            "left": null,
            "margin": null,
            "max_height": null,
            "max_width": null,
            "min_height": null,
            "min_width": null,
            "object_fit": null,
            "object_position": null,
            "order": null,
            "overflow": null,
            "overflow_x": null,
            "overflow_y": null,
            "padding": null,
            "right": null,
            "top": null,
            "visibility": null,
            "width": null
          }
        },
        "f6588efe9d514ca3abb3478c365511e4": {
          "model_module": "@jupyter-widgets/controls",
          "model_name": "ProgressStyleModel",
          "model_module_version": "1.5.0",
          "state": {
            "_model_module": "@jupyter-widgets/controls",
            "_model_module_version": "1.5.0",
            "_model_name": "ProgressStyleModel",
            "_view_count": null,
            "_view_module": "@jupyter-widgets/base",
            "_view_module_version": "1.2.0",
            "_view_name": "StyleView",
            "bar_color": null,
            "description_width": ""
          }
        },
        "642b4f48b53f4e0495182d1d4e63f76c": {
          "model_module": "@jupyter-widgets/base",
          "model_name": "LayoutModel",
          "model_module_version": "1.2.0",
          "state": {
            "_model_module": "@jupyter-widgets/base",
            "_model_module_version": "1.2.0",
            "_model_name": "LayoutModel",
            "_view_count": null,
            "_view_module": "@jupyter-widgets/base",
            "_view_module_version": "1.2.0",
            "_view_name": "LayoutView",
            "align_content": null,
            "align_items": null,
            "align_self": null,
            "border": null,
            "bottom": null,
            "display": null,
            "flex": null,
            "flex_flow": null,
            "grid_area": null,
            "grid_auto_columns": null,
            "grid_auto_flow": null,
            "grid_auto_rows": null,
            "grid_column": null,
            "grid_gap": null,
            "grid_row": null,
            "grid_template_areas": null,
            "grid_template_columns": null,
            "grid_template_rows": null,
            "height": null,
            "justify_content": null,
            "justify_items": null,
            "left": null,
            "margin": null,
            "max_height": null,
            "max_width": null,
            "min_height": null,
            "min_width": null,
            "object_fit": null,
            "object_position": null,
            "order": null,
            "overflow": null,
            "overflow_x": null,
            "overflow_y": null,
            "padding": null,
            "right": null,
            "top": null,
            "visibility": null,
            "width": null
          }
        },
        "7e9b43e0996d47aba525cac417ff0269": {
          "model_module": "@jupyter-widgets/controls",
          "model_name": "DescriptionStyleModel",
          "model_module_version": "1.5.0",
          "state": {
            "_model_module": "@jupyter-widgets/controls",
            "_model_module_version": "1.5.0",
            "_model_name": "DescriptionStyleModel",
            "_view_count": null,
            "_view_module": "@jupyter-widgets/base",
            "_view_module_version": "1.2.0",
            "_view_name": "StyleView",
            "description_width": ""
          }
        },
        "9dc22027f5b6446ba14c447147fbd600": {
          "model_module": "@jupyter-widgets/controls",
          "model_name": "HBoxModel",
          "model_module_version": "1.5.0",
          "state": {
            "_dom_classes": [],
            "_model_module": "@jupyter-widgets/controls",
            "_model_module_version": "1.5.0",
            "_model_name": "HBoxModel",
            "_view_count": null,
            "_view_module": "@jupyter-widgets/controls",
            "_view_module_version": "1.5.0",
            "_view_name": "HBoxView",
            "box_style": "",
            "children": [
              "IPY_MODEL_94849f8723e341c29e08410dc77e684b",
              "IPY_MODEL_1161864e796c40978fcabfdd2d8ba6da",
              "IPY_MODEL_d3d69be469674ba594610c5f02cc966b"
            ],
            "layout": "IPY_MODEL_79ecd6416ccf4ec88562dd459729026e"
          }
        },
        "94849f8723e341c29e08410dc77e684b": {
          "model_module": "@jupyter-widgets/controls",
          "model_name": "HTMLModel",
          "model_module_version": "1.5.0",
          "state": {
            "_dom_classes": [],
            "_model_module": "@jupyter-widgets/controls",
            "_model_module_version": "1.5.0",
            "_model_name": "HTMLModel",
            "_view_count": null,
            "_view_module": "@jupyter-widgets/controls",
            "_view_module_version": "1.5.0",
            "_view_name": "HTMLView",
            "description": "",
            "description_tooltip": null,
            "layout": "IPY_MODEL_c4bed932fcd24d038394c7e8046e34de",
            "placeholder": "​",
            "style": "IPY_MODEL_deb652a7fa624db5826e39f60947e026",
            "value": "100%"
          }
        },
        "1161864e796c40978fcabfdd2d8ba6da": {
          "model_module": "@jupyter-widgets/controls",
          "model_name": "FloatProgressModel",
          "model_module_version": "1.5.0",
          "state": {
            "_dom_classes": [],
            "_model_module": "@jupyter-widgets/controls",
            "_model_module_version": "1.5.0",
            "_model_name": "FloatProgressModel",
            "_view_count": null,
            "_view_module": "@jupyter-widgets/controls",
            "_view_module_version": "1.5.0",
            "_view_name": "ProgressView",
            "bar_style": "success",
            "description": "",
            "description_tooltip": null,
            "layout": "IPY_MODEL_3afc442f980940b3b017cc24959bc1b7",
            "max": 28881,
            "min": 0,
            "orientation": "horizontal",
            "style": "IPY_MODEL_1b87597853354bc984c4104ea2eb7f81",
            "value": 28881
          }
        },
        "d3d69be469674ba594610c5f02cc966b": {
          "model_module": "@jupyter-widgets/controls",
          "model_name": "HTMLModel",
          "model_module_version": "1.5.0",
          "state": {
            "_dom_classes": [],
            "_model_module": "@jupyter-widgets/controls",
            "_model_module_version": "1.5.0",
            "_model_name": "HTMLModel",
            "_view_count": null,
            "_view_module": "@jupyter-widgets/controls",
            "_view_module_version": "1.5.0",
            "_view_name": "HTMLView",
            "description": "",
            "description_tooltip": null,
            "layout": "IPY_MODEL_3349195426d24a6ebb8dc26e555a1deb",
            "placeholder": "​",
            "style": "IPY_MODEL_96a27bc8ef6a47ee88a1d6348fe7603d",
            "value": " 28881/28881 [00:00&lt;00:00, 345348.14it/s]"
          }
        },
        "79ecd6416ccf4ec88562dd459729026e": {
          "model_module": "@jupyter-widgets/base",
          "model_name": "LayoutModel",
          "model_module_version": "1.2.0",
          "state": {
            "_model_module": "@jupyter-widgets/base",
            "_model_module_version": "1.2.0",
            "_model_name": "LayoutModel",
            "_view_count": null,
            "_view_module": "@jupyter-widgets/base",
            "_view_module_version": "1.2.0",
            "_view_name": "LayoutView",
            "align_content": null,
            "align_items": null,
            "align_self": null,
            "border": null,
            "bottom": null,
            "display": null,
            "flex": null,
            "flex_flow": null,
            "grid_area": null,
            "grid_auto_columns": null,
            "grid_auto_flow": null,
            "grid_auto_rows": null,
            "grid_column": null,
            "grid_gap": null,
            "grid_row": null,
            "grid_template_areas": null,
            "grid_template_columns": null,
            "grid_template_rows": null,
            "height": null,
            "justify_content": null,
            "justify_items": null,
            "left": null,
            "margin": null,
            "max_height": null,
            "max_width": null,
            "min_height": null,
            "min_width": null,
            "object_fit": null,
            "object_position": null,
            "order": null,
            "overflow": null,
            "overflow_x": null,
            "overflow_y": null,
            "padding": null,
            "right": null,
            "top": null,
            "visibility": null,
            "width": null
          }
        },
        "c4bed932fcd24d038394c7e8046e34de": {
          "model_module": "@jupyter-widgets/base",
          "model_name": "LayoutModel",
          "model_module_version": "1.2.0",
          "state": {
            "_model_module": "@jupyter-widgets/base",
            "_model_module_version": "1.2.0",
            "_model_name": "LayoutModel",
            "_view_count": null,
            "_view_module": "@jupyter-widgets/base",
            "_view_module_version": "1.2.0",
            "_view_name": "LayoutView",
            "align_content": null,
            "align_items": null,
            "align_self": null,
            "border": null,
            "bottom": null,
            "display": null,
            "flex": null,
            "flex_flow": null,
            "grid_area": null,
            "grid_auto_columns": null,
            "grid_auto_flow": null,
            "grid_auto_rows": null,
            "grid_column": null,
            "grid_gap": null,
            "grid_row": null,
            "grid_template_areas": null,
            "grid_template_columns": null,
            "grid_template_rows": null,
            "height": null,
            "justify_content": null,
            "justify_items": null,
            "left": null,
            "margin": null,
            "max_height": null,
            "max_width": null,
            "min_height": null,
            "min_width": null,
            "object_fit": null,
            "object_position": null,
            "order": null,
            "overflow": null,
            "overflow_x": null,
            "overflow_y": null,
            "padding": null,
            "right": null,
            "top": null,
            "visibility": null,
            "width": null
          }
        },
        "deb652a7fa624db5826e39f60947e026": {
          "model_module": "@jupyter-widgets/controls",
          "model_name": "DescriptionStyleModel",
          "model_module_version": "1.5.0",
          "state": {
            "_model_module": "@jupyter-widgets/controls",
            "_model_module_version": "1.5.0",
            "_model_name": "DescriptionStyleModel",
            "_view_count": null,
            "_view_module": "@jupyter-widgets/base",
            "_view_module_version": "1.2.0",
            "_view_name": "StyleView",
            "description_width": ""
          }
        },
        "3afc442f980940b3b017cc24959bc1b7": {
          "model_module": "@jupyter-widgets/base",
          "model_name": "LayoutModel",
          "model_module_version": "1.2.0",
          "state": {
            "_model_module": "@jupyter-widgets/base",
            "_model_module_version": "1.2.0",
            "_model_name": "LayoutModel",
            "_view_count": null,
            "_view_module": "@jupyter-widgets/base",
            "_view_module_version": "1.2.0",
            "_view_name": "LayoutView",
            "align_content": null,
            "align_items": null,
            "align_self": null,
            "border": null,
            "bottom": null,
            "display": null,
            "flex": null,
            "flex_flow": null,
            "grid_area": null,
            "grid_auto_columns": null,
            "grid_auto_flow": null,
            "grid_auto_rows": null,
            "grid_column": null,
            "grid_gap": null,
            "grid_row": null,
            "grid_template_areas": null,
            "grid_template_columns": null,
            "grid_template_rows": null,
            "height": null,
            "justify_content": null,
            "justify_items": null,
            "left": null,
            "margin": null,
            "max_height": null,
            "max_width": null,
            "min_height": null,
            "min_width": null,
            "object_fit": null,
            "object_position": null,
            "order": null,
            "overflow": null,
            "overflow_x": null,
            "overflow_y": null,
            "padding": null,
            "right": null,
            "top": null,
            "visibility": null,
            "width": null
          }
        },
        "1b87597853354bc984c4104ea2eb7f81": {
          "model_module": "@jupyter-widgets/controls",
          "model_name": "ProgressStyleModel",
          "model_module_version": "1.5.0",
          "state": {
            "_model_module": "@jupyter-widgets/controls",
            "_model_module_version": "1.5.0",
            "_model_name": "ProgressStyleModel",
            "_view_count": null,
            "_view_module": "@jupyter-widgets/base",
            "_view_module_version": "1.2.0",
            "_view_name": "StyleView",
            "bar_color": null,
            "description_width": ""
          }
        },
        "3349195426d24a6ebb8dc26e555a1deb": {
          "model_module": "@jupyter-widgets/base",
          "model_name": "LayoutModel",
          "model_module_version": "1.2.0",
          "state": {
            "_model_module": "@jupyter-widgets/base",
            "_model_module_version": "1.2.0",
            "_model_name": "LayoutModel",
            "_view_count": null,
            "_view_module": "@jupyter-widgets/base",
            "_view_module_version": "1.2.0",
            "_view_name": "LayoutView",
            "align_content": null,
            "align_items": null,
            "align_self": null,
            "border": null,
            "bottom": null,
            "display": null,
            "flex": null,
            "flex_flow": null,
            "grid_area": null,
            "grid_auto_columns": null,
            "grid_auto_flow": null,
            "grid_auto_rows": null,
            "grid_column": null,
            "grid_gap": null,
            "grid_row": null,
            "grid_template_areas": null,
            "grid_template_columns": null,
            "grid_template_rows": null,
            "height": null,
            "justify_content": null,
            "justify_items": null,
            "left": null,
            "margin": null,
            "max_height": null,
            "max_width": null,
            "min_height": null,
            "min_width": null,
            "object_fit": null,
            "object_position": null,
            "order": null,
            "overflow": null,
            "overflow_x": null,
            "overflow_y": null,
            "padding": null,
            "right": null,
            "top": null,
            "visibility": null,
            "width": null
          }
        },
        "96a27bc8ef6a47ee88a1d6348fe7603d": {
          "model_module": "@jupyter-widgets/controls",
          "model_name": "DescriptionStyleModel",
          "model_module_version": "1.5.0",
          "state": {
            "_model_module": "@jupyter-widgets/controls",
            "_model_module_version": "1.5.0",
            "_model_name": "DescriptionStyleModel",
            "_view_count": null,
            "_view_module": "@jupyter-widgets/base",
            "_view_module_version": "1.2.0",
            "_view_name": "StyleView",
            "description_width": ""
          }
        },
        "4ea0bf3f050a488ea80f06359f0f25e6": {
          "model_module": "@jupyter-widgets/controls",
          "model_name": "HBoxModel",
          "model_module_version": "1.5.0",
          "state": {
            "_dom_classes": [],
            "_model_module": "@jupyter-widgets/controls",
            "_model_module_version": "1.5.0",
            "_model_name": "HBoxModel",
            "_view_count": null,
            "_view_module": "@jupyter-widgets/controls",
            "_view_module_version": "1.5.0",
            "_view_name": "HBoxView",
            "box_style": "",
            "children": [
              "IPY_MODEL_5510f22bc3144e19b3ed3483062db07b",
              "IPY_MODEL_e72b60ddd6b341afba37757678c95c3f",
              "IPY_MODEL_469b5aa335104cdd943689c9c3ad7673"
            ],
            "layout": "IPY_MODEL_4d9580bec7e64a9e8e6c0a376b338ce7"
          }
        },
        "5510f22bc3144e19b3ed3483062db07b": {
          "model_module": "@jupyter-widgets/controls",
          "model_name": "HTMLModel",
          "model_module_version": "1.5.0",
          "state": {
            "_dom_classes": [],
            "_model_module": "@jupyter-widgets/controls",
            "_model_module_version": "1.5.0",
            "_model_name": "HTMLModel",
            "_view_count": null,
            "_view_module": "@jupyter-widgets/controls",
            "_view_module_version": "1.5.0",
            "_view_name": "HTMLView",
            "description": "",
            "description_tooltip": null,
            "layout": "IPY_MODEL_8a6cb0552d0e4cceb2a110a7b1a424f9",
            "placeholder": "​",
            "style": "IPY_MODEL_5c9da2d0714740268994741fc35df32b",
            "value": "100%"
          }
        },
        "e72b60ddd6b341afba37757678c95c3f": {
          "model_module": "@jupyter-widgets/controls",
          "model_name": "FloatProgressModel",
          "model_module_version": "1.5.0",
          "state": {
            "_dom_classes": [],
            "_model_module": "@jupyter-widgets/controls",
            "_model_module_version": "1.5.0",
            "_model_name": "FloatProgressModel",
            "_view_count": null,
            "_view_module": "@jupyter-widgets/controls",
            "_view_module_version": "1.5.0",
            "_view_name": "ProgressView",
            "bar_style": "success",
            "description": "",
            "description_tooltip": null,
            "layout": "IPY_MODEL_03d209bc98d147fcb92470868f55d23c",
            "max": 1648877,
            "min": 0,
            "orientation": "horizontal",
            "style": "IPY_MODEL_eb7a16d4fe79485cb757d2cf54d1ac07",
            "value": 1648877
          }
        },
        "469b5aa335104cdd943689c9c3ad7673": {
          "model_module": "@jupyter-widgets/controls",
          "model_name": "HTMLModel",
          "model_module_version": "1.5.0",
          "state": {
            "_dom_classes": [],
            "_model_module": "@jupyter-widgets/controls",
            "_model_module_version": "1.5.0",
            "_model_name": "HTMLModel",
            "_view_count": null,
            "_view_module": "@jupyter-widgets/controls",
            "_view_module_version": "1.5.0",
            "_view_name": "HTMLView",
            "description": "",
            "description_tooltip": null,
            "layout": "IPY_MODEL_07f0db8d5b1243eea3e886650e1a8318",
            "placeholder": "​",
            "style": "IPY_MODEL_cb8288c3993b4069bcd66312b5b20525",
            "value": " 1648877/1648877 [00:00&lt;00:00, 214907.87it/s]"
          }
        },
        "4d9580bec7e64a9e8e6c0a376b338ce7": {
          "model_module": "@jupyter-widgets/base",
          "model_name": "LayoutModel",
          "model_module_version": "1.2.0",
          "state": {
            "_model_module": "@jupyter-widgets/base",
            "_model_module_version": "1.2.0",
            "_model_name": "LayoutModel",
            "_view_count": null,
            "_view_module": "@jupyter-widgets/base",
            "_view_module_version": "1.2.0",
            "_view_name": "LayoutView",
            "align_content": null,
            "align_items": null,
            "align_self": null,
            "border": null,
            "bottom": null,
            "display": null,
            "flex": null,
            "flex_flow": null,
            "grid_area": null,
            "grid_auto_columns": null,
            "grid_auto_flow": null,
            "grid_auto_rows": null,
            "grid_column": null,
            "grid_gap": null,
            "grid_row": null,
            "grid_template_areas": null,
            "grid_template_columns": null,
            "grid_template_rows": null,
            "height": null,
            "justify_content": null,
            "justify_items": null,
            "left": null,
            "margin": null,
            "max_height": null,
            "max_width": null,
            "min_height": null,
            "min_width": null,
            "object_fit": null,
            "object_position": null,
            "order": null,
            "overflow": null,
            "overflow_x": null,
            "overflow_y": null,
            "padding": null,
            "right": null,
            "top": null,
            "visibility": null,
            "width": null
          }
        },
        "8a6cb0552d0e4cceb2a110a7b1a424f9": {
          "model_module": "@jupyter-widgets/base",
          "model_name": "LayoutModel",
          "model_module_version": "1.2.0",
          "state": {
            "_model_module": "@jupyter-widgets/base",
            "_model_module_version": "1.2.0",
            "_model_name": "LayoutModel",
            "_view_count": null,
            "_view_module": "@jupyter-widgets/base",
            "_view_module_version": "1.2.0",
            "_view_name": "LayoutView",
            "align_content": null,
            "align_items": null,
            "align_self": null,
            "border": null,
            "bottom": null,
            "display": null,
            "flex": null,
            "flex_flow": null,
            "grid_area": null,
            "grid_auto_columns": null,
            "grid_auto_flow": null,
            "grid_auto_rows": null,
            "grid_column": null,
            "grid_gap": null,
            "grid_row": null,
            "grid_template_areas": null,
            "grid_template_columns": null,
            "grid_template_rows": null,
            "height": null,
            "justify_content": null,
            "justify_items": null,
            "left": null,
            "margin": null,
            "max_height": null,
            "max_width": null,
            "min_height": null,
            "min_width": null,
            "object_fit": null,
            "object_position": null,
            "order": null,
            "overflow": null,
            "overflow_x": null,
            "overflow_y": null,
            "padding": null,
            "right": null,
            "top": null,
            "visibility": null,
            "width": null
          }
        },
        "5c9da2d0714740268994741fc35df32b": {
          "model_module": "@jupyter-widgets/controls",
          "model_name": "DescriptionStyleModel",
          "model_module_version": "1.5.0",
          "state": {
            "_model_module": "@jupyter-widgets/controls",
            "_model_module_version": "1.5.0",
            "_model_name": "DescriptionStyleModel",
            "_view_count": null,
            "_view_module": "@jupyter-widgets/base",
            "_view_module_version": "1.2.0",
            "_view_name": "StyleView",
            "description_width": ""
          }
        },
        "03d209bc98d147fcb92470868f55d23c": {
          "model_module": "@jupyter-widgets/base",
          "model_name": "LayoutModel",
          "model_module_version": "1.2.0",
          "state": {
            "_model_module": "@jupyter-widgets/base",
            "_model_module_version": "1.2.0",
            "_model_name": "LayoutModel",
            "_view_count": null,
            "_view_module": "@jupyter-widgets/base",
            "_view_module_version": "1.2.0",
            "_view_name": "LayoutView",
            "align_content": null,
            "align_items": null,
            "align_self": null,
            "border": null,
            "bottom": null,
            "display": null,
            "flex": null,
            "flex_flow": null,
            "grid_area": null,
            "grid_auto_columns": null,
            "grid_auto_flow": null,
            "grid_auto_rows": null,
            "grid_column": null,
            "grid_gap": null,
            "grid_row": null,
            "grid_template_areas": null,
            "grid_template_columns": null,
            "grid_template_rows": null,
            "height": null,
            "justify_content": null,
            "justify_items": null,
            "left": null,
            "margin": null,
            "max_height": null,
            "max_width": null,
            "min_height": null,
            "min_width": null,
            "object_fit": null,
            "object_position": null,
            "order": null,
            "overflow": null,
            "overflow_x": null,
            "overflow_y": null,
            "padding": null,
            "right": null,
            "top": null,
            "visibility": null,
            "width": null
          }
        },
        "eb7a16d4fe79485cb757d2cf54d1ac07": {
          "model_module": "@jupyter-widgets/controls",
          "model_name": "ProgressStyleModel",
          "model_module_version": "1.5.0",
          "state": {
            "_model_module": "@jupyter-widgets/controls",
            "_model_module_version": "1.5.0",
            "_model_name": "ProgressStyleModel",
            "_view_count": null,
            "_view_module": "@jupyter-widgets/base",
            "_view_module_version": "1.2.0",
            "_view_name": "StyleView",
            "bar_color": null,
            "description_width": ""
          }
        },
        "07f0db8d5b1243eea3e886650e1a8318": {
          "model_module": "@jupyter-widgets/base",
          "model_name": "LayoutModel",
          "model_module_version": "1.2.0",
          "state": {
            "_model_module": "@jupyter-widgets/base",
            "_model_module_version": "1.2.0",
            "_model_name": "LayoutModel",
            "_view_count": null,
            "_view_module": "@jupyter-widgets/base",
            "_view_module_version": "1.2.0",
            "_view_name": "LayoutView",
            "align_content": null,
            "align_items": null,
            "align_self": null,
            "border": null,
            "bottom": null,
            "display": null,
            "flex": null,
            "flex_flow": null,
            "grid_area": null,
            "grid_auto_columns": null,
            "grid_auto_flow": null,
            "grid_auto_rows": null,
            "grid_column": null,
            "grid_gap": null,
            "grid_row": null,
            "grid_template_areas": null,
            "grid_template_columns": null,
            "grid_template_rows": null,
            "height": null,
            "justify_content": null,
            "justify_items": null,
            "left": null,
            "margin": null,
            "max_height": null,
            "max_width": null,
            "min_height": null,
            "min_width": null,
            "object_fit": null,
            "object_position": null,
            "order": null,
            "overflow": null,
            "overflow_x": null,
            "overflow_y": null,
            "padding": null,
            "right": null,
            "top": null,
            "visibility": null,
            "width": null
          }
        },
        "cb8288c3993b4069bcd66312b5b20525": {
          "model_module": "@jupyter-widgets/controls",
          "model_name": "DescriptionStyleModel",
          "model_module_version": "1.5.0",
          "state": {
            "_model_module": "@jupyter-widgets/controls",
            "_model_module_version": "1.5.0",
            "_model_name": "DescriptionStyleModel",
            "_view_count": null,
            "_view_module": "@jupyter-widgets/base",
            "_view_module_version": "1.2.0",
            "_view_name": "StyleView",
            "description_width": ""
          }
        },
        "3dd935b2de1344f587cca60f89ebae7c": {
          "model_module": "@jupyter-widgets/controls",
          "model_name": "HBoxModel",
          "model_module_version": "1.5.0",
          "state": {
            "_dom_classes": [],
            "_model_module": "@jupyter-widgets/controls",
            "_model_module_version": "1.5.0",
            "_model_name": "HBoxModel",
            "_view_count": null,
            "_view_module": "@jupyter-widgets/controls",
            "_view_module_version": "1.5.0",
            "_view_name": "HBoxView",
            "box_style": "",
            "children": [
              "IPY_MODEL_d6745bb795f34e64b79cb45d6f23c4b8",
              "IPY_MODEL_5902637a81f8497681abf2afbeafff56",
              "IPY_MODEL_0eddbc63b7aa46ccad058c92fb894218"
            ],
            "layout": "IPY_MODEL_421888b4662a44b8bbd81fb689e11a70"
          }
        },
        "d6745bb795f34e64b79cb45d6f23c4b8": {
          "model_module": "@jupyter-widgets/controls",
          "model_name": "HTMLModel",
          "model_module_version": "1.5.0",
          "state": {
            "_dom_classes": [],
            "_model_module": "@jupyter-widgets/controls",
            "_model_module_version": "1.5.0",
            "_model_name": "HTMLModel",
            "_view_count": null,
            "_view_module": "@jupyter-widgets/controls",
            "_view_module_version": "1.5.0",
            "_view_name": "HTMLView",
            "description": "",
            "description_tooltip": null,
            "layout": "IPY_MODEL_31b9a11fe6764bc2b2ab54a0e148ce52",
            "placeholder": "​",
            "style": "IPY_MODEL_e3ffd279d3eb48f481cbf5423a4913ec",
            "value": "100%"
          }
        },
        "5902637a81f8497681abf2afbeafff56": {
          "model_module": "@jupyter-widgets/controls",
          "model_name": "FloatProgressModel",
          "model_module_version": "1.5.0",
          "state": {
            "_dom_classes": [],
            "_model_module": "@jupyter-widgets/controls",
            "_model_module_version": "1.5.0",
            "_model_name": "FloatProgressModel",
            "_view_count": null,
            "_view_module": "@jupyter-widgets/controls",
            "_view_module_version": "1.5.0",
            "_view_name": "ProgressView",
            "bar_style": "success",
            "description": "",
            "description_tooltip": null,
            "layout": "IPY_MODEL_7cfe9f3ce7e44751994fdb4f4b2c8fa1",
            "max": 4542,
            "min": 0,
            "orientation": "horizontal",
            "style": "IPY_MODEL_d09c0984a9ef41a69b1706e6202fd4cf",
            "value": 4542
          }
        },
        "0eddbc63b7aa46ccad058c92fb894218": {
          "model_module": "@jupyter-widgets/controls",
          "model_name": "HTMLModel",
          "model_module_version": "1.5.0",
          "state": {
            "_dom_classes": [],
            "_model_module": "@jupyter-widgets/controls",
            "_model_module_version": "1.5.0",
            "_model_name": "HTMLModel",
            "_view_count": null,
            "_view_module": "@jupyter-widgets/controls",
            "_view_module_version": "1.5.0",
            "_view_name": "HTMLView",
            "description": "",
            "description_tooltip": null,
            "layout": "IPY_MODEL_931699d834dd4bf7a1836e0028e26a93",
            "placeholder": "​",
            "style": "IPY_MODEL_cccf8982a67e4658a6b42d96431bef01",
            "value": " 4542/4542 [00:00&lt;00:00, 34736.42it/s]"
          }
        },
        "421888b4662a44b8bbd81fb689e11a70": {
          "model_module": "@jupyter-widgets/base",
          "model_name": "LayoutModel",
          "model_module_version": "1.2.0",
          "state": {
            "_model_module": "@jupyter-widgets/base",
            "_model_module_version": "1.2.0",
            "_model_name": "LayoutModel",
            "_view_count": null,
            "_view_module": "@jupyter-widgets/base",
            "_view_module_version": "1.2.0",
            "_view_name": "LayoutView",
            "align_content": null,
            "align_items": null,
            "align_self": null,
            "border": null,
            "bottom": null,
            "display": null,
            "flex": null,
            "flex_flow": null,
            "grid_area": null,
            "grid_auto_columns": null,
            "grid_auto_flow": null,
            "grid_auto_rows": null,
            "grid_column": null,
            "grid_gap": null,
            "grid_row": null,
            "grid_template_areas": null,
            "grid_template_columns": null,
            "grid_template_rows": null,
            "height": null,
            "justify_content": null,
            "justify_items": null,
            "left": null,
            "margin": null,
            "max_height": null,
            "max_width": null,
            "min_height": null,
            "min_width": null,
            "object_fit": null,
            "object_position": null,
            "order": null,
            "overflow": null,
            "overflow_x": null,
            "overflow_y": null,
            "padding": null,
            "right": null,
            "top": null,
            "visibility": null,
            "width": null
          }
        },
        "31b9a11fe6764bc2b2ab54a0e148ce52": {
          "model_module": "@jupyter-widgets/base",
          "model_name": "LayoutModel",
          "model_module_version": "1.2.0",
          "state": {
            "_model_module": "@jupyter-widgets/base",
            "_model_module_version": "1.2.0",
            "_model_name": "LayoutModel",
            "_view_count": null,
            "_view_module": "@jupyter-widgets/base",
            "_view_module_version": "1.2.0",
            "_view_name": "LayoutView",
            "align_content": null,
            "align_items": null,
            "align_self": null,
            "border": null,
            "bottom": null,
            "display": null,
            "flex": null,
            "flex_flow": null,
            "grid_area": null,
            "grid_auto_columns": null,
            "grid_auto_flow": null,
            "grid_auto_rows": null,
            "grid_column": null,
            "grid_gap": null,
            "grid_row": null,
            "grid_template_areas": null,
            "grid_template_columns": null,
            "grid_template_rows": null,
            "height": null,
            "justify_content": null,
            "justify_items": null,
            "left": null,
            "margin": null,
            "max_height": null,
            "max_width": null,
            "min_height": null,
            "min_width": null,
            "object_fit": null,
            "object_position": null,
            "order": null,
            "overflow": null,
            "overflow_x": null,
            "overflow_y": null,
            "padding": null,
            "right": null,
            "top": null,
            "visibility": null,
            "width": null
          }
        },
        "e3ffd279d3eb48f481cbf5423a4913ec": {
          "model_module": "@jupyter-widgets/controls",
          "model_name": "DescriptionStyleModel",
          "model_module_version": "1.5.0",
          "state": {
            "_model_module": "@jupyter-widgets/controls",
            "_model_module_version": "1.5.0",
            "_model_name": "DescriptionStyleModel",
            "_view_count": null,
            "_view_module": "@jupyter-widgets/base",
            "_view_module_version": "1.2.0",
            "_view_name": "StyleView",
            "description_width": ""
          }
        },
        "7cfe9f3ce7e44751994fdb4f4b2c8fa1": {
          "model_module": "@jupyter-widgets/base",
          "model_name": "LayoutModel",
          "model_module_version": "1.2.0",
          "state": {
            "_model_module": "@jupyter-widgets/base",
            "_model_module_version": "1.2.0",
            "_model_name": "LayoutModel",
            "_view_count": null,
            "_view_module": "@jupyter-widgets/base",
            "_view_module_version": "1.2.0",
            "_view_name": "LayoutView",
            "align_content": null,
            "align_items": null,
            "align_self": null,
            "border": null,
            "bottom": null,
            "display": null,
            "flex": null,
            "flex_flow": null,
            "grid_area": null,
            "grid_auto_columns": null,
            "grid_auto_flow": null,
            "grid_auto_rows": null,
            "grid_column": null,
            "grid_gap": null,
            "grid_row": null,
            "grid_template_areas": null,
            "grid_template_columns": null,
            "grid_template_rows": null,
            "height": null,
            "justify_content": null,
            "justify_items": null,
            "left": null,
            "margin": null,
            "max_height": null,
            "max_width": null,
            "min_height": null,
            "min_width": null,
            "object_fit": null,
            "object_position": null,
            "order": null,
            "overflow": null,
            "overflow_x": null,
            "overflow_y": null,
            "padding": null,
            "right": null,
            "top": null,
            "visibility": null,
            "width": null
          }
        },
        "d09c0984a9ef41a69b1706e6202fd4cf": {
          "model_module": "@jupyter-widgets/controls",
          "model_name": "ProgressStyleModel",
          "model_module_version": "1.5.0",
          "state": {
            "_model_module": "@jupyter-widgets/controls",
            "_model_module_version": "1.5.0",
            "_model_name": "ProgressStyleModel",
            "_view_count": null,
            "_view_module": "@jupyter-widgets/base",
            "_view_module_version": "1.2.0",
            "_view_name": "StyleView",
            "bar_color": null,
            "description_width": ""
          }
        },
        "931699d834dd4bf7a1836e0028e26a93": {
          "model_module": "@jupyter-widgets/base",
          "model_name": "LayoutModel",
          "model_module_version": "1.2.0",
          "state": {
            "_model_module": "@jupyter-widgets/base",
            "_model_module_version": "1.2.0",
            "_model_name": "LayoutModel",
            "_view_count": null,
            "_view_module": "@jupyter-widgets/base",
            "_view_module_version": "1.2.0",
            "_view_name": "LayoutView",
            "align_content": null,
            "align_items": null,
            "align_self": null,
            "border": null,
            "bottom": null,
            "display": null,
            "flex": null,
            "flex_flow": null,
            "grid_area": null,
            "grid_auto_columns": null,
            "grid_auto_flow": null,
            "grid_auto_rows": null,
            "grid_column": null,
            "grid_gap": null,
            "grid_row": null,
            "grid_template_areas": null,
            "grid_template_columns": null,
            "grid_template_rows": null,
            "height": null,
            "justify_content": null,
            "justify_items": null,
            "left": null,
            "margin": null,
            "max_height": null,
            "max_width": null,
            "min_height": null,
            "min_width": null,
            "object_fit": null,
            "object_position": null,
            "order": null,
            "overflow": null,
            "overflow_x": null,
            "overflow_y": null,
            "padding": null,
            "right": null,
            "top": null,
            "visibility": null,
            "width": null
          }
        },
        "cccf8982a67e4658a6b42d96431bef01": {
          "model_module": "@jupyter-widgets/controls",
          "model_name": "DescriptionStyleModel",
          "model_module_version": "1.5.0",
          "state": {
            "_model_module": "@jupyter-widgets/controls",
            "_model_module_version": "1.5.0",
            "_model_name": "DescriptionStyleModel",
            "_view_count": null,
            "_view_module": "@jupyter-widgets/base",
            "_view_module_version": "1.2.0",
            "_view_name": "StyleView",
            "description_width": ""
          }
        }
      }
    },
    "gpuClass": "standard"
  },
  "nbformat": 4,
  "nbformat_minor": 0
}